{
 "cells": [
  {
   "cell_type": "markdown",
   "metadata": {},
   "source": [
    "# PREDICTION TASK\n",
    "\n",
    "The objective of this notebook is to show to use the different prediction models in order to reach a final prediction at the healthcare provider level.\n",
    "\n",
    "## Benchmark models\n",
    "\n",
    "The objective of these models is to show how dummy models perform. The end goal of the prediction task is to beat these dummy models. As usual, we first start by importing the required libraries."
   ]
  },
  {
   "cell_type": "code",
   "execution_count": 174,
   "metadata": {},
   "outputs": [],
   "source": [
    "from models.prediction_benchmarks import TimeGrowth, ARModel\n",
    "import pandas as pd\n",
    "import numpy as np\n",
    "from sklearn.metrics import mean_squared_error, mean_absolute_error, r2_score"
   ]
  },
  {
   "cell_type": "markdown",
   "metadata": {},
   "source": [
    "We load the preprocessed file to begin with."
   ]
  },
  {
   "cell_type": "code",
   "execution_count": 175,
   "metadata": {},
   "outputs": [],
   "source": [
    "df = pd.read_csv('processed_data.csv')"
   ]
  },
  {
   "cell_type": "markdown",
   "metadata": {},
   "source": [
    "The first model is called \"time growth\". The reason is that it uses the service year and quarter as features to predict the total claims. That is, it literally uses time features. We use a linear regression to train this model."
   ]
  },
  {
   "cell_type": "code",
   "execution_count": 176,
   "metadata": {},
   "outputs": [],
   "source": [
    "tg_model = TimeGrowth(df)\n",
    "y_pred_tg, y_test_tg = tg_model.fit_predict()"
   ]
  },
  {
   "cell_type": "markdown",
   "metadata": {},
   "source": [
    "We will use the R2, RMSE, MAE, and MAPE to evaluate our predictions. Given that a lot of the true values are zero, the MAPE of sklearn will yield infinite values. To solve that, we define our function of MAPE that adds a constant value to both the numerator and denominator of the ratio used to calculate the percentage error. The constant value chosen is the mean of total claims."
   ]
  },
  {
   "cell_type": "code",
   "execution_count": 177,
   "metadata": {},
   "outputs": [],
   "source": [
    "claims_mean = df['total_claims'].mean()\n",
    "\n",
    "def mean_absolute_percentage_error(y_true, y_pred, epsilon=claims_mean):\n",
    "    y_true, y_pred = np.array(y_true), np.array(y_pred)\n",
    "    return np.mean((np.abs((y_true - y_pred) + epsilon) / (y_true + epsilon))) * 100"
   ]
  },
  {
   "cell_type": "markdown",
   "metadata": {},
   "source": [
    "In addition, we define a function to calculate and print the evaluation metrics."
   ]
  },
  {
   "cell_type": "code",
   "execution_count": 178,
   "metadata": {},
   "outputs": [],
   "source": [
    "def calculate_and_print_metrics(y_pred, y_test, suffix):\n",
    "    r2 = r2_score(y_test, y_pred)\n",
    "    rmse = np.sqrt(mean_squared_error(y_test, y_pred))\n",
    "    mae = mean_absolute_error(y_test, y_pred)\n",
    "    mape = mean_absolute_percentage_error(y_test, y_pred)\n",
    "\n",
    "    print(f\"R² {suffix}: {r2:.4f}\")\n",
    "    print(f\"RMSE {suffix}: {rmse:.2f}\")\n",
    "    print(f\"MAE {suffix}: {mae:.2f}\")\n",
    "    print(f\"MAPE {suffix}: {mape:.2f}%\")"
   ]
  },
  {
   "cell_type": "code",
   "execution_count": 179,
   "metadata": {},
   "outputs": [
    {
     "name": "stdout",
     "output_type": "stream",
     "text": [
      "R² TG: 0.9326\n",
      "RMSE TG: 88.40\n",
      "MAE TG: 21.70\n",
      "MAPE TG: 73.27%\n"
     ]
    }
   ],
   "source": [
    "calculate_and_print_metrics(y_pred_tg, y_test_tg, \"TG\")"
   ]
  },
  {
   "cell_type": "markdown",
   "metadata": {},
   "source": [
    "Luckily or unluckily, this simple model performs really well. It will be hard to beat this model!\n",
    "\n",
    "Next, we present a simple autoregressive model. Given that some providers only have 1 year (4 quarters) of data, we only use 2 lags of total claims as features. We cannot use 3 because, as in the time growth model, the last observation of each healthcare provider is left out to act as a test set."
   ]
  },
  {
   "cell_type": "code",
   "execution_count": 180,
   "metadata": {},
   "outputs": [
    {
     "name": "stdout",
     "output_type": "stream",
     "text": [
      "R² AR: -1.2718\n",
      "RMSE AR: 513.08\n",
      "MAE AR: 36.08\n",
      "MAPE AR: 80.58%\n"
     ]
    }
   ],
   "source": [
    "ar_model = ARModel(df)\n",
    "y_pred_ar, y_test_ar = ar_model.fit_predict()\n",
    "\n",
    "calculate_and_print_metrics(y_pred_ar, y_test_ar, \"AR\")"
   ]
  },
  {
   "cell_type": "markdown",
   "metadata": {},
   "source": [
    "Some metrics of the autoregressive model are fine, but the negative R2 score cannot be ignored. This benchmark is easier to beat.\n",
    "\n",
    "## Elastic net models\n",
    "\n",
    "The dataset received has a lot of features, so regularization is definetily needed. That's why we choose Elastic Net as our next model. Since it has both L1 and L2 regularization, it can directly perform feature selection and coefficients shrinkage. Moreover, several of the features are correlated or part of a larger total, so L2 regularization must be used to control those effects.\n",
    "\n",
    "Given that the time growth model has shown interesting results, we use its predictions as an extra feature. \n",
    "\n",
    "As seen before, it seems like 2 lags is not enough. Therefore, this time we use 4 lags in the case of claim features and 1 lag for any other features. Since we are working with time series data, only lagged variables are used as features. \n",
    "\n",
    "As usual, the first step is to import the required libraries."
   ]
  },
  {
   "cell_type": "code",
   "execution_count": 181,
   "metadata": {},
   "outputs": [],
   "source": [
    "from models.elastic_net import ElasticNetReg"
   ]
  },
  {
   "cell_type": "code",
   "execution_count": 182,
   "metadata": {},
   "outputs": [
    {
     "name": "stdout",
     "output_type": "stream",
     "text": [
      "R² EN REG: 0.9642\n",
      "RMSE EN REG: 66.51\n",
      "MAE EN REG: 21.87\n",
      "MAPE EN REG: 67.39%\n"
     ]
    }
   ],
   "source": [
    "en_reg = ElasticNetReg(df)\n",
    "en_reg.prepare_data()\n",
    "en_reg.fit_model()\n",
    "y_pred_en_reg, y_test_en_reg = en_reg.get_predictions()\n",
    "\n",
    "calculate_and_print_metrics(y_pred_en_reg, y_test_en_reg, \"EN REG\")"
   ]
  },
  {
   "cell_type": "markdown",
   "metadata": {},
   "source": [
    "There is a small improvement with respect to time growth model. Even though the MAE is rather low, the MAPE is high and stakeholders might not be too happy about it. We argue that one the reasons for the disconnect between the MAE and MAPE is the large range of total claims. The minimum is 0 and the maximum is above 20k. Therefore, small mistakes in the lower range of total claims highly penalize the MAPE."
   ]
  },
  {
   "cell_type": "code",
   "execution_count": 183,
   "metadata": {},
   "outputs": [
    {
     "name": "stdout",
     "output_type": "stream",
     "text": [
      "Minimum number of total claims: 0\n",
      "Maximum number of total claims: 20556\n"
     ]
    }
   ],
   "source": [
    "min_claims = df.total_claims.min()\n",
    "max_claims = df.total_claims.max()\n",
    "\n",
    "print(f'Minimum number of total claims: {min_claims}')\n",
    "print(f'Maximum number of total claims: {max_claims}')"
   ]
  },
  {
   "cell_type": "markdown",
   "metadata": {},
   "source": [
    "We believe that metrics are not everything when evaluating the performance of a model, interpretability matters too. We will check if the most important features of the model are intuitive. \n",
    "\n",
    "We observe that the 2 most important features are the first lags of total claims and stantard claims, on third place comes the prediction of the time growth model.\n",
    "\n",
    "This is intuitive, it makes sense that the first lag of the target is an important feature. In addition, the fact that the prediction of the time growth model is important indicates that the sort of ensembling we are doing is working."
   ]
  },
  {
   "cell_type": "code",
   "execution_count": 184,
   "metadata": {},
   "outputs": [
    {
     "data": {
      "text/html": [
       "<div>\n",
       "<style scoped>\n",
       "    .dataframe tbody tr th:only-of-type {\n",
       "        vertical-align: middle;\n",
       "    }\n",
       "\n",
       "    .dataframe tbody tr th {\n",
       "        vertical-align: top;\n",
       "    }\n",
       "\n",
       "    .dataframe thead th {\n",
       "        text-align: right;\n",
       "    }\n",
       "</style>\n",
       "<table border=\"1\" class=\"dataframe\">\n",
       "  <thead>\n",
       "    <tr style=\"text-align: right;\">\n",
       "      <th></th>\n",
       "      <th>Feature</th>\n",
       "      <th>Coefficient</th>\n",
       "    </tr>\n",
       "  </thead>\n",
       "  <tbody>\n",
       "    <tr>\n",
       "      <th>8</th>\n",
       "      <td>total_claims_lag_1</td>\n",
       "      <td>0.333203</td>\n",
       "    </tr>\n",
       "    <tr>\n",
       "      <th>0</th>\n",
       "      <td>standard_services_claims_lag_1</td>\n",
       "      <td>0.278524</td>\n",
       "    </tr>\n",
       "    <tr>\n",
       "      <th>87</th>\n",
       "      <td>y_pred_tg</td>\n",
       "      <td>0.216173</td>\n",
       "    </tr>\n",
       "    <tr>\n",
       "      <th>4</th>\n",
       "      <td>tele_services_claims_lag_1</td>\n",
       "      <td>0.084463</td>\n",
       "    </tr>\n",
       "    <tr>\n",
       "      <th>54</th>\n",
       "      <td>tele_services_psychotherapy_patients_lag_1</td>\n",
       "      <td>0.054348</td>\n",
       "    </tr>\n",
       "    <tr>\n",
       "      <th>51</th>\n",
       "      <td>tele_services_patients_lag_1</td>\n",
       "      <td>0.053799</td>\n",
       "    </tr>\n",
       "    <tr>\n",
       "      <th>20</th>\n",
       "      <td>total_psychotherapy_claims_lag_1</td>\n",
       "      <td>0.036945</td>\n",
       "    </tr>\n",
       "    <tr>\n",
       "      <th>55</th>\n",
       "      <td>total_psychotherapy_patients_lag_1</td>\n",
       "      <td>0.028326</td>\n",
       "    </tr>\n",
       "    <tr>\n",
       "      <th>52</th>\n",
       "      <td>total_patients_lag_1</td>\n",
       "      <td>0.022341</td>\n",
       "    </tr>\n",
       "    <tr>\n",
       "      <th>6</th>\n",
       "      <td>tele_services_claims_lag_3</td>\n",
       "      <td>-0.013987</td>\n",
       "    </tr>\n",
       "  </tbody>\n",
       "</table>\n",
       "</div>"
      ],
      "text/plain": [
       "                                       Feature  Coefficient\n",
       "8                           total_claims_lag_1     0.333203\n",
       "0               standard_services_claims_lag_1     0.278524\n",
       "87                                   y_pred_tg     0.216173\n",
       "4                   tele_services_claims_lag_1     0.084463\n",
       "54  tele_services_psychotherapy_patients_lag_1     0.054348\n",
       "51                tele_services_patients_lag_1     0.053799\n",
       "20            total_psychotherapy_claims_lag_1     0.036945\n",
       "55          total_psychotherapy_patients_lag_1     0.028326\n",
       "52                        total_patients_lag_1     0.022341\n",
       "6                   tele_services_claims_lag_3    -0.013987"
      ]
     },
     "execution_count": 184,
     "metadata": {},
     "output_type": "execute_result"
    }
   ],
   "source": [
    "coef_en_reg = en_reg.get_ordered_features()\n",
    "coef_en_reg.head(10)"
   ]
  },
  {
   "cell_type": "markdown",
   "metadata": {},
   "source": [
    "At this point, we ask ourselves about the usefulness of our model. Now in 2024 we know how 2021 was, but back in 2020 in the middle of the COVID-19 pandemic, how 2021 was going to be was rather uncertain. There was a possibility that it all returned to how things were back in 2018/19.\n",
    "\n",
    "Since we are using the last observation of each npi as test set, the model is biased to fit the parameters towards what was happening in that last observation.\n",
    "\n",
    "In finance, every investment strategy has to go to a process that is called backtesting. Backtesting is usually done using historical data. There are certain periods in the financial markets that are of particual interest to investors. For instance, the Great Financial Crisis (GFC) of 2008. It is of interest to leearn how a model would behave in market conditions similar to those of the GFC. Therefore, even if a model is trained using data from 2010 to 2015, it is common to test it with data of 2008. From a historical point of view, that is incorrect because the model is using data that was not available in 2008. However, the objective of the backtesting is not historical accuracy, but to stress test the investment strategy (which is ignorant of 2008) with 2008 conditions.\n",
    "\n",
    "We believe we can use the idea of backtesting in our demand prediction task as well. Since we don't have too much historical data and the available historical data is not uniform at the provider level, we cannot use a time series split, which would be ideal. The closest approximation is to use a regular train test split with shuffling. Since each row in the dataset has only lagged features, there is no data leakage at the row level. By doing this kind of split we believe that the model will be more robust and more reliable to predict on unseen data. With this kind of split 2020 observations might end up in the training set while 2018 observations end up in the test set. We consider that is fine because 2021 could have ended up being a back to business as usual scenario.\n",
    "\n",
    "We import a new elastic net model that uses this kind of data preprocessing."
   ]
  },
  {
   "cell_type": "code",
   "execution_count": 185,
   "metadata": {},
   "outputs": [],
   "source": [
    "from models.elastic_net import ElasticNetNew"
   ]
  },
  {
   "cell_type": "markdown",
   "metadata": {},
   "source": [
    "The metrics using this new approach are slightly better than those found using the traditional approach to time series."
   ]
  },
  {
   "cell_type": "code",
   "execution_count": 186,
   "metadata": {},
   "outputs": [
    {
     "name": "stdout",
     "output_type": "stream",
     "text": [
      "R² EN NEW: 0.9720\n",
      "RMSE EN NEW: 54.86\n",
      "MAE EN NEW: 18.06\n",
      "MAPE EN NEW: 66.82%\n"
     ]
    }
   ],
   "source": [
    "en_new = ElasticNetNew(df)\n",
    "en_new.prepare_data()\n",
    "en_new.fit_model()\n",
    "y_pred_en_new, y_test_en_new = en_new.get_predictions()\n",
    "\n",
    "calculate_and_print_metrics(y_pred_en_new, y_test_en_new, \"EN NEW\")"
   ]
  },
  {
   "cell_type": "markdown",
   "metadata": {},
   "source": [
    "In addition, we observe that the most important features are quite similar to those found when using the traditional approach.\n",
    "\n",
    "Surprisingly, the coefficient of the first lag of the tele services claims is almost 2x the previous model. Even though the tele service claims increase only during 2020, this new approach assings a higher importance to it."
   ]
  },
  {
   "cell_type": "code",
   "execution_count": 187,
   "metadata": {},
   "outputs": [
    {
     "data": {
      "text/html": [
       "<div>\n",
       "<style scoped>\n",
       "    .dataframe tbody tr th:only-of-type {\n",
       "        vertical-align: middle;\n",
       "    }\n",
       "\n",
       "    .dataframe tbody tr th {\n",
       "        vertical-align: top;\n",
       "    }\n",
       "\n",
       "    .dataframe thead th {\n",
       "        text-align: right;\n",
       "    }\n",
       "</style>\n",
       "<table border=\"1\" class=\"dataframe\">\n",
       "  <thead>\n",
       "    <tr style=\"text-align: right;\">\n",
       "      <th></th>\n",
       "      <th>Feature</th>\n",
       "      <th>Coefficient</th>\n",
       "    </tr>\n",
       "  </thead>\n",
       "  <tbody>\n",
       "    <tr>\n",
       "      <th>8</th>\n",
       "      <td>total_claims_lag_1</td>\n",
       "      <td>0.282104</td>\n",
       "    </tr>\n",
       "    <tr>\n",
       "      <th>0</th>\n",
       "      <td>standard_services_claims_lag_1</td>\n",
       "      <td>0.250089</td>\n",
       "    </tr>\n",
       "    <tr>\n",
       "      <th>87</th>\n",
       "      <td>y_pred_tg</td>\n",
       "      <td>0.191916</td>\n",
       "    </tr>\n",
       "    <tr>\n",
       "      <th>4</th>\n",
       "      <td>tele_services_claims_lag_1</td>\n",
       "      <td>0.152327</td>\n",
       "    </tr>\n",
       "    <tr>\n",
       "      <th>20</th>\n",
       "      <td>total_psychotherapy_claims_lag_1</td>\n",
       "      <td>0.075614</td>\n",
       "    </tr>\n",
       "    <tr>\n",
       "      <th>54</th>\n",
       "      <td>tele_services_psychotherapy_patients_lag_1</td>\n",
       "      <td>0.062800</td>\n",
       "    </tr>\n",
       "    <tr>\n",
       "      <th>21</th>\n",
       "      <td>total_psychotherapy_claims_lag_2</td>\n",
       "      <td>-0.062148</td>\n",
       "    </tr>\n",
       "    <tr>\n",
       "      <th>55</th>\n",
       "      <td>total_psychotherapy_patients_lag_1</td>\n",
       "      <td>0.050864</td>\n",
       "    </tr>\n",
       "    <tr>\n",
       "      <th>12</th>\n",
       "      <td>standard_services_psychotherapy_claims_lag_1</td>\n",
       "      <td>0.044373</td>\n",
       "    </tr>\n",
       "    <tr>\n",
       "      <th>52</th>\n",
       "      <td>total_patients_lag_1</td>\n",
       "      <td>0.042692</td>\n",
       "    </tr>\n",
       "  </tbody>\n",
       "</table>\n",
       "</div>"
      ],
      "text/plain": [
       "                                         Feature  Coefficient\n",
       "8                             total_claims_lag_1     0.282104\n",
       "0                 standard_services_claims_lag_1     0.250089\n",
       "87                                     y_pred_tg     0.191916\n",
       "4                     tele_services_claims_lag_1     0.152327\n",
       "20              total_psychotherapy_claims_lag_1     0.075614\n",
       "54    tele_services_psychotherapy_patients_lag_1     0.062800\n",
       "21              total_psychotherapy_claims_lag_2    -0.062148\n",
       "55            total_psychotherapy_patients_lag_1     0.050864\n",
       "12  standard_services_psychotherapy_claims_lag_1     0.044373\n",
       "52                          total_patients_lag_1     0.042692"
      ]
     },
     "execution_count": 187,
     "metadata": {},
     "output_type": "execute_result"
    }
   ],
   "source": [
    "coef_en_new = en_new.get_ordered_features()\n",
    "coef_en_new.head(10)"
   ]
  },
  {
   "cell_type": "markdown",
   "metadata": {},
   "source": [
    "## Boosting models\n",
    "\n",
    "The elastic net models used before can only capture linear relations. As a final refinement, we want to use a model that can capture non-linear relations. To do so, we use a boosting that is based on regression trees. Just like before, we will use the prediction of the elastic net model as an extra feature.\n",
    "\n",
    "In addition, elastic net is a model with high bias and low variance because it is based on linear regression. It has been shown that booster models are capable of decreasing the bias of models, so we believe it is a good complement to the elastic net.\n",
    "\n",
    "First, we import the required libraries."
   ]
  },
  {
   "cell_type": "code",
   "execution_count": 188,
   "metadata": {},
   "outputs": [],
   "source": [
    "from models.booster import BoosterReg"
   ]
  },
  {
   "cell_type": "markdown",
   "metadata": {},
   "source": [
    "The metrics of the booster model do not improve with respecto to the elastic net. Nonetheless, we don't feel this is a bad thing. The metrics are rather similar and we consider that the booster model is likely to generalize well because we have tuned several hyperparameters to ensure that overfitting is controlled."
   ]
  },
  {
   "cell_type": "code",
   "execution_count": 189,
   "metadata": {},
   "outputs": [
    {
     "name": "stdout",
     "output_type": "stream",
     "text": [
      "R² BOOST REG: 0.9322\n",
      "RMSE BOOST REG: 91.54\n",
      "MAE BOOST REG: 24.30\n",
      "MAPE BOOST REG: 68.61%\n"
     ]
    }
   ],
   "source": [
    "boost_reg = BoosterReg(df)\n",
    "boost_reg.prepare_data()\n",
    "boost_reg.fit_model()\n",
    "y_pred_boost_reg, y_test_boost_reg = boost_reg.get_predictions()\n",
    "\n",
    "calculate_and_print_metrics(y_pred_boost_reg, y_test_boost_reg, \"BOOST REG\")"
   ]
  },
  {
   "cell_type": "markdown",
   "metadata": {},
   "source": [
    "When it comes to the importance of features, these are somehow similar to those found in the elastic net model. One thing that we were not expecting was that the elastic net prediction was not too important. This might indicate that the booster model is finding patterns beyond those of the elastic net, which was the ultimate goal of using this non-linear model."
   ]
  },
  {
   "cell_type": "code",
   "execution_count": 190,
   "metadata": {},
   "outputs": [
    {
     "data": {
      "text/html": [
       "<div>\n",
       "<style scoped>\n",
       "    .dataframe tbody tr th:only-of-type {\n",
       "        vertical-align: middle;\n",
       "    }\n",
       "\n",
       "    .dataframe tbody tr th {\n",
       "        vertical-align: top;\n",
       "    }\n",
       "\n",
       "    .dataframe thead th {\n",
       "        text-align: right;\n",
       "    }\n",
       "</style>\n",
       "<table border=\"1\" class=\"dataframe\">\n",
       "  <thead>\n",
       "    <tr style=\"text-align: right;\">\n",
       "      <th></th>\n",
       "      <th>Feature</th>\n",
       "      <th>Importance</th>\n",
       "    </tr>\n",
       "  </thead>\n",
       "  <tbody>\n",
       "    <tr>\n",
       "      <th>8</th>\n",
       "      <td>total_claims_lag_1</td>\n",
       "      <td>0.224401</td>\n",
       "    </tr>\n",
       "    <tr>\n",
       "      <th>1</th>\n",
       "      <td>standard_services_claims_lag_2</td>\n",
       "      <td>0.193162</td>\n",
       "    </tr>\n",
       "    <tr>\n",
       "      <th>2</th>\n",
       "      <td>standard_services_claims_lag_3</td>\n",
       "      <td>0.088853</td>\n",
       "    </tr>\n",
       "    <tr>\n",
       "      <th>20</th>\n",
       "      <td>total_psychotherapy_claims_lag_1</td>\n",
       "      <td>0.068245</td>\n",
       "    </tr>\n",
       "    <tr>\n",
       "      <th>36</th>\n",
       "      <td>total_other_payers_claims_lag_1</td>\n",
       "      <td>0.055646</td>\n",
       "    </tr>\n",
       "    <tr>\n",
       "      <th>51</th>\n",
       "      <td>tele_services_patients_lag_1</td>\n",
       "      <td>0.041235</td>\n",
       "    </tr>\n",
       "    <tr>\n",
       "      <th>11</th>\n",
       "      <td>total_claims_lag_4</td>\n",
       "      <td>0.037727</td>\n",
       "    </tr>\n",
       "    <tr>\n",
       "      <th>3</th>\n",
       "      <td>standard_services_claims_lag_4</td>\n",
       "      <td>0.036341</td>\n",
       "    </tr>\n",
       "    <tr>\n",
       "      <th>60</th>\n",
       "      <td>broadband_access_lag_1</td>\n",
       "      <td>0.036329</td>\n",
       "    </tr>\n",
       "    <tr>\n",
       "      <th>87</th>\n",
       "      <td>y_pred_en_reg</td>\n",
       "      <td>0.035560</td>\n",
       "    </tr>\n",
       "  </tbody>\n",
       "</table>\n",
       "</div>"
      ],
      "text/plain": [
       "                             Feature  Importance\n",
       "8                 total_claims_lag_1    0.224401\n",
       "1     standard_services_claims_lag_2    0.193162\n",
       "2     standard_services_claims_lag_3    0.088853\n",
       "20  total_psychotherapy_claims_lag_1    0.068245\n",
       "36   total_other_payers_claims_lag_1    0.055646\n",
       "51      tele_services_patients_lag_1    0.041235\n",
       "11                total_claims_lag_4    0.037727\n",
       "3     standard_services_claims_lag_4    0.036341\n",
       "60            broadband_access_lag_1    0.036329\n",
       "87                     y_pred_en_reg    0.035560"
      ]
     },
     "execution_count": 190,
     "metadata": {},
     "output_type": "execute_result"
    }
   ],
   "source": [
    "coef_boost_reg = boost_reg.get_sorted_importances()\n",
    "coef_boost_reg.head(10)"
   ]
  },
  {
   "cell_type": "markdown",
   "metadata": {},
   "source": [
    "Just like we did in the elastic net case, we also consider the \"backtesting\" approach to the booster model. As a reminder, we apply the classic train test split with the hope of increasing the generalization power of the model. One of the advantages of following this approach is that we can set the booster model to apply subsampling to the input data to further control for overfitting.\n",
    "\n",
    "As usual, we import the required libraries first."
   ]
  },
  {
   "cell_type": "code",
   "execution_count": 191,
   "metadata": {},
   "outputs": [],
   "source": [
    "from models.booster import BoosterNew"
   ]
  },
  {
   "cell_type": "markdown",
   "metadata": {},
   "source": [
    "The metrics don't show an improvement with respect to the elastic net results. Just like before, we don't mind about it because more controls have been set to decrease any possible overfitting, so we believe that the boosting model is more powerful and more likely to generalize well."
   ]
  },
  {
   "cell_type": "code",
   "execution_count": 192,
   "metadata": {},
   "outputs": [
    {
     "name": "stdout",
     "output_type": "stream",
     "text": [
      "R² BOOST NEW: 0.9720\n",
      "RMSE BOOST NEW: 53.60\n",
      "MAE BOOST NEW: 19.38\n",
      "MAPE BOOST NEW: 62.87%\n"
     ]
    }
   ],
   "source": [
    "boost_new = BoosterNew(df)\n",
    "boost_new.prepare_data()\n",
    "boost_new.fit_model()\n",
    "y_pred_boost_new, y_test_boost_new = boost_new.get_predictions()\n",
    "\n",
    "calculate_and_print_metrics(y_pred_boost_new, y_test_boost_new, \"BOOST NEW\")"
   ]
  },
  {
   "cell_type": "markdown",
   "metadata": {},
   "source": [
    "Once again, the prediction of the elastic net model is not too important for the boosting model. In general, the importance of the features has changed when compared to the elastic net model, but not too dramatically.\n",
    "\n",
    "Something that we see for the first time is that our created features appear among the most important features. This shows that aggregation variables and ratios of claims per patient are important in the boosting model."
   ]
  },
  {
   "cell_type": "code",
   "execution_count": 193,
   "metadata": {},
   "outputs": [
    {
     "data": {
      "text/html": [
       "<div>\n",
       "<style scoped>\n",
       "    .dataframe tbody tr th:only-of-type {\n",
       "        vertical-align: middle;\n",
       "    }\n",
       "\n",
       "    .dataframe tbody tr th {\n",
       "        vertical-align: top;\n",
       "    }\n",
       "\n",
       "    .dataframe thead th {\n",
       "        text-align: right;\n",
       "    }\n",
       "</style>\n",
       "<table border=\"1\" class=\"dataframe\">\n",
       "  <thead>\n",
       "    <tr style=\"text-align: right;\">\n",
       "      <th></th>\n",
       "      <th>Feature</th>\n",
       "      <th>Importance</th>\n",
       "    </tr>\n",
       "  </thead>\n",
       "  <tbody>\n",
       "    <tr>\n",
       "      <th>9</th>\n",
       "      <td>total_claims_lag_2</td>\n",
       "      <td>0.231058</td>\n",
       "    </tr>\n",
       "    <tr>\n",
       "      <th>8</th>\n",
       "      <td>total_claims_lag_1</td>\n",
       "      <td>0.199858</td>\n",
       "    </tr>\n",
       "    <tr>\n",
       "      <th>70</th>\n",
       "      <td>total_patients_county_lag_1</td>\n",
       "      <td>0.133022</td>\n",
       "    </tr>\n",
       "    <tr>\n",
       "      <th>58</th>\n",
       "      <td>psychotherapy_provider_through_taxonomy_lag_1</td>\n",
       "      <td>0.078407</td>\n",
       "    </tr>\n",
       "    <tr>\n",
       "      <th>14</th>\n",
       "      <td>standard_services_psychotherapy_claims_lag_3</td>\n",
       "      <td>0.047542</td>\n",
       "    </tr>\n",
       "    <tr>\n",
       "      <th>87</th>\n",
       "      <td>y_pred_en_new</td>\n",
       "      <td>0.043868</td>\n",
       "    </tr>\n",
       "    <tr>\n",
       "      <th>20</th>\n",
       "      <td>total_psychotherapy_claims_lag_1</td>\n",
       "      <td>0.035360</td>\n",
       "    </tr>\n",
       "    <tr>\n",
       "      <th>60</th>\n",
       "      <td>broadband_access_lag_1</td>\n",
       "      <td>0.032512</td>\n",
       "    </tr>\n",
       "    <tr>\n",
       "      <th>36</th>\n",
       "      <td>total_other_payers_claims_lag_1</td>\n",
       "      <td>0.030324</td>\n",
       "    </tr>\n",
       "    <tr>\n",
       "      <th>3</th>\n",
       "      <td>standard_services_claims_lag_4</td>\n",
       "      <td>0.014548</td>\n",
       "    </tr>\n",
       "  </tbody>\n",
       "</table>\n",
       "</div>"
      ],
      "text/plain": [
       "                                          Feature  Importance\n",
       "9                              total_claims_lag_2    0.231058\n",
       "8                              total_claims_lag_1    0.199858\n",
       "70                    total_patients_county_lag_1    0.133022\n",
       "58  psychotherapy_provider_through_taxonomy_lag_1    0.078407\n",
       "14   standard_services_psychotherapy_claims_lag_3    0.047542\n",
       "87                                  y_pred_en_new    0.043868\n",
       "20               total_psychotherapy_claims_lag_1    0.035360\n",
       "60                         broadband_access_lag_1    0.032512\n",
       "36                total_other_payers_claims_lag_1    0.030324\n",
       "3                  standard_services_claims_lag_4    0.014548"
      ]
     },
     "execution_count": 193,
     "metadata": {},
     "output_type": "execute_result"
    }
   ],
   "source": [
    "coef_boost_new = boost_new.get_sorted_importances()\n",
    "coef_boost_new.head(10)"
   ]
  },
  {
   "cell_type": "markdown",
   "metadata": {},
   "source": [
    "# MERGING PREDICTION WITH CLUSTERING\n",
    "\n",
    "The final task of this project is to include the finding of the clustering model in the prediction. There are several ways to do so, we first start with adding the cluster as an extra feature to see if its among the most important features or if the order of features is changed.\n",
    "\n",
    "## Adding clusters as a feature\n",
    "\n",
    "First, we need to merge the cluster datasat with our current dataset."
   ]
  },
  {
   "cell_type": "code",
   "execution_count": 194,
   "metadata": {},
   "outputs": [],
   "source": [
    "clustered_df = pd.read_csv('clustered_dataset.csv')\n",
    "df = df.merge(clustered_df[['npi', 'cluster']], on='npi', how='left')"
   ]
  },
  {
   "cell_type": "markdown",
   "metadata": {},
   "source": [
    "There is a small improvement with respect to the previous boosting model, specially in the MAPE, which has proved to be hard to decrease."
   ]
  },
  {
   "cell_type": "code",
   "execution_count": 195,
   "metadata": {},
   "outputs": [
    {
     "name": "stdout",
     "output_type": "stream",
     "text": [
      "R² BOOST REG C: 0.9454\n",
      "RMSE BOOST REG C: 86.78\n",
      "MAE BOOST REG C: 25.59\n",
      "MAPE BOOST REG C: 64.29%\n"
     ]
    }
   ],
   "source": [
    "boost_reg_c = BoosterReg(df)\n",
    "boost_reg_c.prepare_data()\n",
    "boost_reg_c.fit_model()\n",
    "y_pred_boost_reg_c, y_test_boost_reg_c = boost_reg_c.get_predictions()\n",
    "\n",
    "calculate_and_print_metrics(y_pred_boost_reg_c, y_test_boost_reg_c, \"BOOST REG C\")"
   ]
  },
  {
   "cell_type": "markdown",
   "metadata": {},
   "source": [
    "The cluster feature is not among the most important. However, it has altered the order of important features. This means that the interaction of clusters with other features is meaningful."
   ]
  },
  {
   "cell_type": "code",
   "execution_count": 196,
   "metadata": {},
   "outputs": [
    {
     "data": {
      "text/html": [
       "<div>\n",
       "<style scoped>\n",
       "    .dataframe tbody tr th:only-of-type {\n",
       "        vertical-align: middle;\n",
       "    }\n",
       "\n",
       "    .dataframe tbody tr th {\n",
       "        vertical-align: top;\n",
       "    }\n",
       "\n",
       "    .dataframe thead th {\n",
       "        text-align: right;\n",
       "    }\n",
       "</style>\n",
       "<table border=\"1\" class=\"dataframe\">\n",
       "  <thead>\n",
       "    <tr style=\"text-align: right;\">\n",
       "      <th></th>\n",
       "      <th>Feature</th>\n",
       "      <th>Importance</th>\n",
       "    </tr>\n",
       "  </thead>\n",
       "  <tbody>\n",
       "    <tr>\n",
       "      <th>1</th>\n",
       "      <td>standard_services_claims_lag_2</td>\n",
       "      <td>0.289149</td>\n",
       "    </tr>\n",
       "    <tr>\n",
       "      <th>8</th>\n",
       "      <td>total_claims_lag_1</td>\n",
       "      <td>0.200922</td>\n",
       "    </tr>\n",
       "    <tr>\n",
       "      <th>3</th>\n",
       "      <td>standard_services_claims_lag_4</td>\n",
       "      <td>0.058513</td>\n",
       "    </tr>\n",
       "    <tr>\n",
       "      <th>13</th>\n",
       "      <td>standard_services_psychotherapy_claims_lag_2</td>\n",
       "      <td>0.053749</td>\n",
       "    </tr>\n",
       "    <tr>\n",
       "      <th>36</th>\n",
       "      <td>total_other_payers_claims_lag_1</td>\n",
       "      <td>0.049866</td>\n",
       "    </tr>\n",
       "    <tr>\n",
       "      <th>51</th>\n",
       "      <td>tele_services_patients_lag_1</td>\n",
       "      <td>0.043392</td>\n",
       "    </tr>\n",
       "    <tr>\n",
       "      <th>50</th>\n",
       "      <td>standard_services_patients_lag_1</td>\n",
       "      <td>0.042297</td>\n",
       "    </tr>\n",
       "    <tr>\n",
       "      <th>88</th>\n",
       "      <td>y_pred_en_reg</td>\n",
       "      <td>0.035070</td>\n",
       "    </tr>\n",
       "    <tr>\n",
       "      <th>75</th>\n",
       "      <td>claims_per_patient_lag_1</td>\n",
       "      <td>0.028721</td>\n",
       "    </tr>\n",
       "    <tr>\n",
       "      <th>9</th>\n",
       "      <td>total_claims_lag_2</td>\n",
       "      <td>0.028236</td>\n",
       "    </tr>\n",
       "  </tbody>\n",
       "</table>\n",
       "</div>"
      ],
      "text/plain": [
       "                                         Feature  Importance\n",
       "1                 standard_services_claims_lag_2    0.289149\n",
       "8                             total_claims_lag_1    0.200922\n",
       "3                 standard_services_claims_lag_4    0.058513\n",
       "13  standard_services_psychotherapy_claims_lag_2    0.053749\n",
       "36               total_other_payers_claims_lag_1    0.049866\n",
       "51                  tele_services_patients_lag_1    0.043392\n",
       "50              standard_services_patients_lag_1    0.042297\n",
       "88                                 y_pred_en_reg    0.035070\n",
       "75                      claims_per_patient_lag_1    0.028721\n",
       "9                             total_claims_lag_2    0.028236"
      ]
     },
     "execution_count": 196,
     "metadata": {},
     "output_type": "execute_result"
    }
   ],
   "source": [
    "coef_boost_reg_c = boost_reg_c.get_sorted_importances()\n",
    "coef_boost_reg_c.head(10)"
   ]
  },
  {
   "cell_type": "markdown",
   "metadata": {},
   "source": [
    "When using the regular train test split, we observe that the metrics do not improve. For this version of the model, adding cluster as a feature does not lead to a change."
   ]
  },
  {
   "cell_type": "code",
   "execution_count": 197,
   "metadata": {},
   "outputs": [
    {
     "name": "stdout",
     "output_type": "stream",
     "text": [
      "R² BOOST NEW C: 0.9687\n",
      "RMSE BOOST NEW C: 60.25\n",
      "MAE BOOST NEW C: 20.70\n",
      "MAPE BOOST NEW C: 61.55%\n"
     ]
    }
   ],
   "source": [
    "boost_new_c = BoosterNew(df)\n",
    "boost_new_c.prepare_data()\n",
    "boost_new_c.fit_model()\n",
    "y_pred_boost_new_c, y_test_boost_new_c = boost_new_c.get_predictions()\n",
    "\n",
    "calculate_and_print_metrics(y_pred_boost_new_c, y_test_boost_new_c, \"BOOST NEW C\")"
   ]
  },
  {
   "cell_type": "markdown",
   "metadata": {},
   "source": [
    "The irrelevance of clusters as a feature can be further observed in the importance of features, which reamins unchanged."
   ]
  },
  {
   "cell_type": "code",
   "execution_count": 198,
   "metadata": {},
   "outputs": [
    {
     "data": {
      "text/html": [
       "<div>\n",
       "<style scoped>\n",
       "    .dataframe tbody tr th:only-of-type {\n",
       "        vertical-align: middle;\n",
       "    }\n",
       "\n",
       "    .dataframe tbody tr th {\n",
       "        vertical-align: top;\n",
       "    }\n",
       "\n",
       "    .dataframe thead th {\n",
       "        text-align: right;\n",
       "    }\n",
       "</style>\n",
       "<table border=\"1\" class=\"dataframe\">\n",
       "  <thead>\n",
       "    <tr style=\"text-align: right;\">\n",
       "      <th></th>\n",
       "      <th>Feature</th>\n",
       "      <th>Importance</th>\n",
       "    </tr>\n",
       "  </thead>\n",
       "  <tbody>\n",
       "    <tr>\n",
       "      <th>20</th>\n",
       "      <td>total_psychotherapy_claims_lag_1</td>\n",
       "      <td>0.276415</td>\n",
       "    </tr>\n",
       "    <tr>\n",
       "      <th>8</th>\n",
       "      <td>total_claims_lag_1</td>\n",
       "      <td>0.132445</td>\n",
       "    </tr>\n",
       "    <tr>\n",
       "      <th>3</th>\n",
       "      <td>standard_services_claims_lag_4</td>\n",
       "      <td>0.108007</td>\n",
       "    </tr>\n",
       "    <tr>\n",
       "      <th>36</th>\n",
       "      <td>total_other_payers_claims_lag_1</td>\n",
       "      <td>0.076655</td>\n",
       "    </tr>\n",
       "    <tr>\n",
       "      <th>9</th>\n",
       "      <td>total_claims_lag_2</td>\n",
       "      <td>0.064341</td>\n",
       "    </tr>\n",
       "    <tr>\n",
       "      <th>10</th>\n",
       "      <td>total_claims_lag_3</td>\n",
       "      <td>0.052772</td>\n",
       "    </tr>\n",
       "    <tr>\n",
       "      <th>23</th>\n",
       "      <td>total_psychotherapy_claims_lag_4</td>\n",
       "      <td>0.037903</td>\n",
       "    </tr>\n",
       "    <tr>\n",
       "      <th>73</th>\n",
       "      <td>patients_quarter_lag_1</td>\n",
       "      <td>0.025004</td>\n",
       "    </tr>\n",
       "    <tr>\n",
       "      <th>50</th>\n",
       "      <td>standard_services_patients_lag_1</td>\n",
       "      <td>0.023453</td>\n",
       "    </tr>\n",
       "    <tr>\n",
       "      <th>75</th>\n",
       "      <td>claims_per_patient_lag_1</td>\n",
       "      <td>0.019891</td>\n",
       "    </tr>\n",
       "  </tbody>\n",
       "</table>\n",
       "</div>"
      ],
      "text/plain": [
       "                             Feature  Importance\n",
       "20  total_psychotherapy_claims_lag_1    0.276415\n",
       "8                 total_claims_lag_1    0.132445\n",
       "3     standard_services_claims_lag_4    0.108007\n",
       "36   total_other_payers_claims_lag_1    0.076655\n",
       "9                 total_claims_lag_2    0.064341\n",
       "10                total_claims_lag_3    0.052772\n",
       "23  total_psychotherapy_claims_lag_4    0.037903\n",
       "73            patients_quarter_lag_1    0.025004\n",
       "50  standard_services_patients_lag_1    0.023453\n",
       "75          claims_per_patient_lag_1    0.019891"
      ]
     },
     "execution_count": 198,
     "metadata": {},
     "output_type": "execute_result"
    }
   ],
   "source": [
    "coef_boost_new_c = boost_new_c.get_sorted_importances()\n",
    "coef_boost_new_c.head(10)"
   ]
  },
  {
   "cell_type": "markdown",
   "metadata": {},
   "source": [
    "## A model per cluster\n",
    "\n",
    "Another option to include the information of clusters is to fit a model per cluster, to take advantage of the intrinsic differences among clusters.\n",
    "\n",
    "We believe there are enough observations in each cluster to run a model for each of them."
   ]
  },
  {
   "cell_type": "code",
   "execution_count": 199,
   "metadata": {},
   "outputs": [
    {
     "name": "stdout",
     "output_type": "stream",
     "text": [
      "Number of rows for each cluster value:\n",
      "cluster\n",
      "1.0    34488\n",
      "0.0    26932\n",
      "2.0    11424\n",
      "Name: count, dtype: int64\n"
     ]
    }
   ],
   "source": [
    "cluster_counts = df['cluster'].value_counts()\n",
    "\n",
    "print(\"Number of rows for each cluster value:\")\n",
    "print(cluster_counts)"
   ]
  },
  {
   "cell_type": "markdown",
   "metadata": {},
   "source": [
    "We see that the metrics are quite different among different clusters. Thus, it seems reasonable to build a different model per cluster."
   ]
  },
  {
   "cell_type": "code",
   "execution_count": 200,
   "metadata": {},
   "outputs": [
    {
     "name": "stdout",
     "output_type": "stream",
     "text": [
      "Running model for cluster 0\n",
      "Cluster 0 Results - Booster Reg:\n",
      "R²: 0.7545\n",
      "RMSE: 108.94\n",
      "MAE: 20.85\n",
      "MAPE: 65.84%\n",
      "=============================\n",
      "Running model for cluster 1\n",
      "Cluster 1 Results - Booster Reg:\n",
      "R²: 0.9567\n",
      "RMSE: 102.12\n",
      "MAE: 32.07\n",
      "MAPE: 55.49%\n",
      "=============================\n",
      "Running model for cluster 2\n",
      "Cluster 2 Results - Booster Reg:\n",
      "R²: 0.9307\n",
      "RMSE: 15.64\n",
      "MAE: 5.20\n",
      "MAPE: 91.65%\n",
      "=============================\n"
     ]
    }
   ],
   "source": [
    "# Initialize a dictionary to store results and models for each cluster\n",
    "results_reg = {}\n",
    "models_reg = {}\n",
    "\n",
    "# Loop through each cluster\n",
    "for cluster in range(0, 3):\n",
    "    print(f\"Running model for cluster {cluster}\")\n",
    "    # Filter the DataFrame for the current cluster\n",
    "    cluster_df = df[df['cluster'] == cluster]\n",
    "\n",
    "    # Create and run the BoosterReg model for the current cluster\n",
    "    model_name = f\"booster_reg_model_cluster_{cluster}\"\n",
    "    models_reg[model_name] = BoosterReg(cluster_df)\n",
    "    models_reg[model_name].prepare_data()\n",
    "    models_reg[model_name].fit_model()\n",
    "    \n",
    "    y_pred, y_test = models_reg[model_name].get_predictions()\n",
    "    predictions_df = models_reg[model_name].create_predictions_dataframe()\n",
    "    sorted_importances_df = models_reg[model_name].get_sorted_importances()\n",
    "\n",
    "    r2 = r2_score(y_test, y_pred)\n",
    "    rmse = np.sqrt(mean_squared_error(y_test, y_pred))\n",
    "    mae = mean_absolute_error(y_test, y_pred)\n",
    "    mape = mean_absolute_percentage_error(y_test, y_pred)\n",
    "\n",
    "    # Store the results\n",
    "    results_reg[cluster] = {\n",
    "        'R²': r2,\n",
    "        'RMSE': rmse,\n",
    "        'MAE': mae,\n",
    "        'MAPE': mape,\n",
    "        'predictions_df': predictions_df,\n",
    "        'sorted_importances_df': sorted_importances_df\n",
    "    }\n",
    "\n",
    "    # Print the results for the current cluster\n",
    "    print(f\"Cluster {cluster} Results - Booster Reg:\")\n",
    "    print(f\"R²: {r2:.4f}\")\n",
    "    print(f\"RMSE: {rmse:.2f}\")\n",
    "    print(f\"MAE: {mae:.2f}\")\n",
    "    print(f\"MAPE: {mape:.2f}%\")\n",
    "    print('=============================')"
   ]
  },
  {
   "cell_type": "markdown",
   "metadata": {},
   "source": [
    "For cluster 0, it seems like standard psychotherapy claims is the most important driver."
   ]
  },
  {
   "cell_type": "code",
   "execution_count": 201,
   "metadata": {},
   "outputs": [
    {
     "data": {
      "text/html": [
       "<div>\n",
       "<style scoped>\n",
       "    .dataframe tbody tr th:only-of-type {\n",
       "        vertical-align: middle;\n",
       "    }\n",
       "\n",
       "    .dataframe tbody tr th {\n",
       "        vertical-align: top;\n",
       "    }\n",
       "\n",
       "    .dataframe thead th {\n",
       "        text-align: right;\n",
       "    }\n",
       "</style>\n",
       "<table border=\"1\" class=\"dataframe\">\n",
       "  <thead>\n",
       "    <tr style=\"text-align: right;\">\n",
       "      <th></th>\n",
       "      <th>Feature</th>\n",
       "      <th>Importance</th>\n",
       "    </tr>\n",
       "  </thead>\n",
       "  <tbody>\n",
       "    <tr>\n",
       "      <th>14</th>\n",
       "      <td>standard_services_psychotherapy_claims_lag_3</td>\n",
       "      <td>0.654178</td>\n",
       "    </tr>\n",
       "    <tr>\n",
       "      <th>22</th>\n",
       "      <td>total_psychotherapy_claims_lag_3</td>\n",
       "      <td>0.098819</td>\n",
       "    </tr>\n",
       "    <tr>\n",
       "      <th>0</th>\n",
       "      <td>standard_services_claims_lag_1</td>\n",
       "      <td>0.056128</td>\n",
       "    </tr>\n",
       "    <tr>\n",
       "      <th>8</th>\n",
       "      <td>total_claims_lag_1</td>\n",
       "      <td>0.046879</td>\n",
       "    </tr>\n",
       "    <tr>\n",
       "      <th>4</th>\n",
       "      <td>tele_services_claims_lag_1</td>\n",
       "      <td>0.025616</td>\n",
       "    </tr>\n",
       "    <tr>\n",
       "      <th>88</th>\n",
       "      <td>y_pred_en_reg</td>\n",
       "      <td>0.022057</td>\n",
       "    </tr>\n",
       "    <tr>\n",
       "      <th>9</th>\n",
       "      <td>total_claims_lag_2</td>\n",
       "      <td>0.020725</td>\n",
       "    </tr>\n",
       "    <tr>\n",
       "      <th>10</th>\n",
       "      <td>total_claims_lag_3</td>\n",
       "      <td>0.015956</td>\n",
       "    </tr>\n",
       "    <tr>\n",
       "      <th>23</th>\n",
       "      <td>total_psychotherapy_claims_lag_4</td>\n",
       "      <td>0.013070</td>\n",
       "    </tr>\n",
       "    <tr>\n",
       "      <th>50</th>\n",
       "      <td>standard_services_patients_lag_1</td>\n",
       "      <td>0.006012</td>\n",
       "    </tr>\n",
       "  </tbody>\n",
       "</table>\n",
       "</div>"
      ],
      "text/plain": [
       "                                         Feature  Importance\n",
       "14  standard_services_psychotherapy_claims_lag_3    0.654178\n",
       "22              total_psychotherapy_claims_lag_3    0.098819\n",
       "0                 standard_services_claims_lag_1    0.056128\n",
       "8                             total_claims_lag_1    0.046879\n",
       "4                     tele_services_claims_lag_1    0.025616\n",
       "88                                 y_pred_en_reg    0.022057\n",
       "9                             total_claims_lag_2    0.020725\n",
       "10                            total_claims_lag_3    0.015956\n",
       "23              total_psychotherapy_claims_lag_4    0.013070\n",
       "50              standard_services_patients_lag_1    0.006012"
      ]
     },
     "execution_count": 201,
     "metadata": {},
     "output_type": "execute_result"
    }
   ],
   "source": [
    "results_reg[0]['sorted_importances_df'].head(10)"
   ]
  },
  {
   "cell_type": "markdown",
   "metadata": {},
   "source": [
    "For cluster 1, similar features to those found in the original prediction model without clusters."
   ]
  },
  {
   "cell_type": "code",
   "execution_count": 202,
   "metadata": {},
   "outputs": [
    {
     "data": {
      "text/html": [
       "<div>\n",
       "<style scoped>\n",
       "    .dataframe tbody tr th:only-of-type {\n",
       "        vertical-align: middle;\n",
       "    }\n",
       "\n",
       "    .dataframe tbody tr th {\n",
       "        vertical-align: top;\n",
       "    }\n",
       "\n",
       "    .dataframe thead th {\n",
       "        text-align: right;\n",
       "    }\n",
       "</style>\n",
       "<table border=\"1\" class=\"dataframe\">\n",
       "  <thead>\n",
       "    <tr style=\"text-align: right;\">\n",
       "      <th></th>\n",
       "      <th>Feature</th>\n",
       "      <th>Importance</th>\n",
       "    </tr>\n",
       "  </thead>\n",
       "  <tbody>\n",
       "    <tr>\n",
       "      <th>8</th>\n",
       "      <td>total_claims_lag_1</td>\n",
       "      <td>0.334496</td>\n",
       "    </tr>\n",
       "    <tr>\n",
       "      <th>1</th>\n",
       "      <td>standard_services_claims_lag_2</td>\n",
       "      <td>0.121476</td>\n",
       "    </tr>\n",
       "    <tr>\n",
       "      <th>20</th>\n",
       "      <td>total_psychotherapy_claims_lag_1</td>\n",
       "      <td>0.108205</td>\n",
       "    </tr>\n",
       "    <tr>\n",
       "      <th>9</th>\n",
       "      <td>total_claims_lag_2</td>\n",
       "      <td>0.091051</td>\n",
       "    </tr>\n",
       "    <tr>\n",
       "      <th>52</th>\n",
       "      <td>total_patients_lag_1</td>\n",
       "      <td>0.055387</td>\n",
       "    </tr>\n",
       "    <tr>\n",
       "      <th>51</th>\n",
       "      <td>tele_services_patients_lag_1</td>\n",
       "      <td>0.045837</td>\n",
       "    </tr>\n",
       "    <tr>\n",
       "      <th>88</th>\n",
       "      <td>y_pred_en_reg</td>\n",
       "      <td>0.024731</td>\n",
       "    </tr>\n",
       "    <tr>\n",
       "      <th>73</th>\n",
       "      <td>patients_quarter_lag_1</td>\n",
       "      <td>0.024291</td>\n",
       "    </tr>\n",
       "    <tr>\n",
       "      <th>5</th>\n",
       "      <td>tele_services_claims_lag_2</td>\n",
       "      <td>0.023531</td>\n",
       "    </tr>\n",
       "    <tr>\n",
       "      <th>50</th>\n",
       "      <td>standard_services_patients_lag_1</td>\n",
       "      <td>0.023468</td>\n",
       "    </tr>\n",
       "  </tbody>\n",
       "</table>\n",
       "</div>"
      ],
      "text/plain": [
       "                             Feature  Importance\n",
       "8                 total_claims_lag_1    0.334496\n",
       "1     standard_services_claims_lag_2    0.121476\n",
       "20  total_psychotherapy_claims_lag_1    0.108205\n",
       "9                 total_claims_lag_2    0.091051\n",
       "52              total_patients_lag_1    0.055387\n",
       "51      tele_services_patients_lag_1    0.045837\n",
       "88                     y_pred_en_reg    0.024731\n",
       "73            patients_quarter_lag_1    0.024291\n",
       "5         tele_services_claims_lag_2    0.023531\n",
       "50  standard_services_patients_lag_1    0.023468"
      ]
     },
     "execution_count": 202,
     "metadata": {},
     "output_type": "execute_result"
    }
   ],
   "source": [
    "results_reg[1]['sorted_importances_df'].head(10)"
   ]
  },
  {
   "cell_type": "markdown",
   "metadata": {},
   "source": [
    "For cluster 2, the most important feature is the prediction of the elastic net model, which could indicate that not too many non-linear relations were found. Other than that, there is a mix of standard and total claims and patients."
   ]
  },
  {
   "cell_type": "code",
   "execution_count": 203,
   "metadata": {},
   "outputs": [
    {
     "data": {
      "text/html": [
       "<div>\n",
       "<style scoped>\n",
       "    .dataframe tbody tr th:only-of-type {\n",
       "        vertical-align: middle;\n",
       "    }\n",
       "\n",
       "    .dataframe tbody tr th {\n",
       "        vertical-align: top;\n",
       "    }\n",
       "\n",
       "    .dataframe thead th {\n",
       "        text-align: right;\n",
       "    }\n",
       "</style>\n",
       "<table border=\"1\" class=\"dataframe\">\n",
       "  <thead>\n",
       "    <tr style=\"text-align: right;\">\n",
       "      <th></th>\n",
       "      <th>Feature</th>\n",
       "      <th>Importance</th>\n",
       "    </tr>\n",
       "  </thead>\n",
       "  <tbody>\n",
       "    <tr>\n",
       "      <th>88</th>\n",
       "      <td>y_pred_en_reg</td>\n",
       "      <td>0.284319</td>\n",
       "    </tr>\n",
       "    <tr>\n",
       "      <th>0</th>\n",
       "      <td>standard_services_claims_lag_1</td>\n",
       "      <td>0.279046</td>\n",
       "    </tr>\n",
       "    <tr>\n",
       "      <th>8</th>\n",
       "      <td>total_claims_lag_1</td>\n",
       "      <td>0.184731</td>\n",
       "    </tr>\n",
       "    <tr>\n",
       "      <th>52</th>\n",
       "      <td>total_patients_lag_1</td>\n",
       "      <td>0.091746</td>\n",
       "    </tr>\n",
       "    <tr>\n",
       "      <th>50</th>\n",
       "      <td>standard_services_patients_lag_1</td>\n",
       "      <td>0.077008</td>\n",
       "    </tr>\n",
       "    <tr>\n",
       "      <th>36</th>\n",
       "      <td>total_other_payers_claims_lag_1</td>\n",
       "      <td>0.023466</td>\n",
       "    </tr>\n",
       "    <tr>\n",
       "      <th>41</th>\n",
       "      <td>onehot__provider_size_Small_lag_1</td>\n",
       "      <td>0.012259</td>\n",
       "    </tr>\n",
       "    <tr>\n",
       "      <th>3</th>\n",
       "      <td>standard_services_claims_lag_4</td>\n",
       "      <td>0.011563</td>\n",
       "    </tr>\n",
       "    <tr>\n",
       "      <th>51</th>\n",
       "      <td>tele_services_patients_lag_1</td>\n",
       "      <td>0.007091</td>\n",
       "    </tr>\n",
       "    <tr>\n",
       "      <th>13</th>\n",
       "      <td>standard_services_psychotherapy_claims_lag_2</td>\n",
       "      <td>0.006286</td>\n",
       "    </tr>\n",
       "  </tbody>\n",
       "</table>\n",
       "</div>"
      ],
      "text/plain": [
       "                                         Feature  Importance\n",
       "88                                 y_pred_en_reg    0.284319\n",
       "0                 standard_services_claims_lag_1    0.279046\n",
       "8                             total_claims_lag_1    0.184731\n",
       "52                          total_patients_lag_1    0.091746\n",
       "50              standard_services_patients_lag_1    0.077008\n",
       "36               total_other_payers_claims_lag_1    0.023466\n",
       "41             onehot__provider_size_Small_lag_1    0.012259\n",
       "3                 standard_services_claims_lag_4    0.011563\n",
       "51                  tele_services_patients_lag_1    0.007091\n",
       "13  standard_services_psychotherapy_claims_lag_2    0.006286"
      ]
     },
     "execution_count": 203,
     "metadata": {},
     "output_type": "execute_result"
    }
   ],
   "source": [
    "results_reg[2]['sorted_importances_df'].head(10)"
   ]
  },
  {
   "cell_type": "markdown",
   "metadata": {},
   "source": [
    "Moving to the second approach of treating time series, the metrics are quite different among clusters as well. Moreover, if we rank them by MAE, the cluster metrics follow a similar distribution to the one found using the convetional approach of trating time series."
   ]
  },
  {
   "cell_type": "code",
   "execution_count": 204,
   "metadata": {},
   "outputs": [
    {
     "name": "stdout",
     "output_type": "stream",
     "text": [
      "Running model for cluster 0\n"
     ]
    },
    {
     "name": "stdout",
     "output_type": "stream",
     "text": [
      "Cluster 0 Results - Booster New:\n",
      "R²: 0.9696\n",
      "RMSE: 40.07\n",
      "MAE: 14.16\n",
      "MAPE: 63.88%\n",
      "=============================\n",
      "Running model for cluster 1\n",
      "Cluster 1 Results - Booster New:\n",
      "R²: 0.9716\n",
      "RMSE: 69.43\n",
      "MAE: 23.52\n",
      "MAPE: 55.70%\n",
      "=============================\n",
      "Running model for cluster 2\n",
      "Cluster 2 Results - Booster New:\n",
      "R²: 0.8897\n",
      "RMSE: 19.59\n",
      "MAE: 7.64\n",
      "MAPE: 84.59%\n",
      "=============================\n"
     ]
    }
   ],
   "source": [
    "# Initialize dictionaries to store results and models for each cluster\n",
    "results_new = {}\n",
    "models_new = {}\n",
    "\n",
    "# Loop through each cluster\n",
    "for cluster in range(0, 3):\n",
    "    print(f\"Running model for cluster {cluster}\")\n",
    "    # Filter the DataFrame for the current cluster\n",
    "    cluster_df = df[df['cluster'] == cluster]\n",
    "\n",
    "    # Create and run the BoosterNew model for the current cluster\n",
    "    model_name = f\"booster_new_model_cluster_{cluster}\"\n",
    "    models_new[model_name] = BoosterNew(cluster_df)\n",
    "    models_new[model_name].prepare_data()\n",
    "    models_new[model_name].fit_model()\n",
    "    \n",
    "    y_pred, y_test = models_new[model_name].get_predictions()\n",
    "    predictions_df = models_new[model_name].create_predictions_dataframe()\n",
    "    sorted_importances_df = models_new[model_name].get_sorted_importances()\n",
    "\n",
    "    r2 = r2_score(y_test, y_pred)\n",
    "    rmse = np.sqrt(mean_squared_error(y_test, y_pred))\n",
    "    mae = mean_absolute_error(y_test, y_pred)\n",
    "    mape = mean_absolute_percentage_error(y_test, y_pred)\n",
    "\n",
    "    # Store the results\n",
    "    results_new[cluster] = {\n",
    "        'R²': r2,\n",
    "        'RMSE': rmse,\n",
    "        'MAE': mae,\n",
    "        'MAPE': mape,\n",
    "        'predictions_df': predictions_df,\n",
    "        'sorted_importances_df': sorted_importances_df\n",
    "    }\n",
    "\n",
    "    # Print the results for the current cluster\n",
    "    print(f\"Cluster {cluster} Results - Booster New:\")\n",
    "    print(f\"R²: {r2:.4f}\")\n",
    "    print(f\"RMSE: {rmse:.2f}\")\n",
    "    print(f\"MAE: {mae:.2f}\")\n",
    "    print(f\"MAPE: {mape:.2f}%\")\n",
    "    print('=============================')\n"
   ]
  },
  {
   "cell_type": "markdown",
   "metadata": {},
   "source": [
    "For cluster 0, unlike before, only one psychotherapy feature is among the most important ones. A couple of aggregated variables appear."
   ]
  },
  {
   "cell_type": "code",
   "execution_count": 205,
   "metadata": {},
   "outputs": [
    {
     "data": {
      "text/html": [
       "<div>\n",
       "<style scoped>\n",
       "    .dataframe tbody tr th:only-of-type {\n",
       "        vertical-align: middle;\n",
       "    }\n",
       "\n",
       "    .dataframe tbody tr th {\n",
       "        vertical-align: top;\n",
       "    }\n",
       "\n",
       "    .dataframe thead th {\n",
       "        text-align: right;\n",
       "    }\n",
       "</style>\n",
       "<table border=\"1\" class=\"dataframe\">\n",
       "  <thead>\n",
       "    <tr style=\"text-align: right;\">\n",
       "      <th></th>\n",
       "      <th>Feature</th>\n",
       "      <th>Importance</th>\n",
       "    </tr>\n",
       "  </thead>\n",
       "  <tbody>\n",
       "    <tr>\n",
       "      <th>8</th>\n",
       "      <td>total_claims_lag_1</td>\n",
       "      <td>0.312647</td>\n",
       "    </tr>\n",
       "    <tr>\n",
       "      <th>15</th>\n",
       "      <td>standard_services_psychotherapy_claims_lag_4</td>\n",
       "      <td>0.201037</td>\n",
       "    </tr>\n",
       "    <tr>\n",
       "      <th>0</th>\n",
       "      <td>standard_services_claims_lag_1</td>\n",
       "      <td>0.123103</td>\n",
       "    </tr>\n",
       "    <tr>\n",
       "      <th>10</th>\n",
       "      <td>total_claims_lag_3</td>\n",
       "      <td>0.102788</td>\n",
       "    </tr>\n",
       "    <tr>\n",
       "      <th>1</th>\n",
       "      <td>standard_services_claims_lag_2</td>\n",
       "      <td>0.032050</td>\n",
       "    </tr>\n",
       "    <tr>\n",
       "      <th>69</th>\n",
       "      <td>npi_county_lag_1</td>\n",
       "      <td>0.023631</td>\n",
       "    </tr>\n",
       "    <tr>\n",
       "      <th>76</th>\n",
       "      <td>tele_claims_per_patient_lag_1</td>\n",
       "      <td>0.019623</td>\n",
       "    </tr>\n",
       "    <tr>\n",
       "      <th>9</th>\n",
       "      <td>total_claims_lag_2</td>\n",
       "      <td>0.019486</td>\n",
       "    </tr>\n",
       "    <tr>\n",
       "      <th>50</th>\n",
       "      <td>standard_services_patients_lag_1</td>\n",
       "      <td>0.014764</td>\n",
       "    </tr>\n",
       "    <tr>\n",
       "      <th>72</th>\n",
       "      <td>claims_quarter_lag_1</td>\n",
       "      <td>0.014267</td>\n",
       "    </tr>\n",
       "  </tbody>\n",
       "</table>\n",
       "</div>"
      ],
      "text/plain": [
       "                                         Feature  Importance\n",
       "8                             total_claims_lag_1    0.312647\n",
       "15  standard_services_psychotherapy_claims_lag_4    0.201037\n",
       "0                 standard_services_claims_lag_1    0.123103\n",
       "10                            total_claims_lag_3    0.102788\n",
       "1                 standard_services_claims_lag_2    0.032050\n",
       "69                              npi_county_lag_1    0.023631\n",
       "76                 tele_claims_per_patient_lag_1    0.019623\n",
       "9                             total_claims_lag_2    0.019486\n",
       "50              standard_services_patients_lag_1    0.014764\n",
       "72                          claims_quarter_lag_1    0.014267"
      ]
     },
     "execution_count": 205,
     "metadata": {},
     "output_type": "execute_result"
    }
   ],
   "source": [
    "results_new[0]['sorted_importances_df'].head(10)"
   ]
  },
  {
   "cell_type": "markdown",
   "metadata": {},
   "source": [
    "For cluster 1, some of the same features as those found when predicting without clusters appear, but in different order."
   ]
  },
  {
   "cell_type": "code",
   "execution_count": 206,
   "metadata": {},
   "outputs": [
    {
     "data": {
      "text/html": [
       "<div>\n",
       "<style scoped>\n",
       "    .dataframe tbody tr th:only-of-type {\n",
       "        vertical-align: middle;\n",
       "    }\n",
       "\n",
       "    .dataframe tbody tr th {\n",
       "        vertical-align: top;\n",
       "    }\n",
       "\n",
       "    .dataframe thead th {\n",
       "        text-align: right;\n",
       "    }\n",
       "</style>\n",
       "<table border=\"1\" class=\"dataframe\">\n",
       "  <thead>\n",
       "    <tr style=\"text-align: right;\">\n",
       "      <th></th>\n",
       "      <th>Feature</th>\n",
       "      <th>Importance</th>\n",
       "    </tr>\n",
       "  </thead>\n",
       "  <tbody>\n",
       "    <tr>\n",
       "      <th>2</th>\n",
       "      <td>standard_services_claims_lag_3</td>\n",
       "      <td>0.227910</td>\n",
       "    </tr>\n",
       "    <tr>\n",
       "      <th>8</th>\n",
       "      <td>total_claims_lag_1</td>\n",
       "      <td>0.196665</td>\n",
       "    </tr>\n",
       "    <tr>\n",
       "      <th>55</th>\n",
       "      <td>total_psychotherapy_patients_lag_1</td>\n",
       "      <td>0.133236</td>\n",
       "    </tr>\n",
       "    <tr>\n",
       "      <th>9</th>\n",
       "      <td>total_claims_lag_2</td>\n",
       "      <td>0.069541</td>\n",
       "    </tr>\n",
       "    <tr>\n",
       "      <th>36</th>\n",
       "      <td>total_other_payers_claims_lag_1</td>\n",
       "      <td>0.063654</td>\n",
       "    </tr>\n",
       "    <tr>\n",
       "      <th>52</th>\n",
       "      <td>total_patients_lag_1</td>\n",
       "      <td>0.056757</td>\n",
       "    </tr>\n",
       "    <tr>\n",
       "      <th>20</th>\n",
       "      <td>total_psychotherapy_claims_lag_1</td>\n",
       "      <td>0.047737</td>\n",
       "    </tr>\n",
       "    <tr>\n",
       "      <th>54</th>\n",
       "      <td>tele_services_psychotherapy_patients_lag_1</td>\n",
       "      <td>0.029128</td>\n",
       "    </tr>\n",
       "    <tr>\n",
       "      <th>3</th>\n",
       "      <td>standard_services_claims_lag_4</td>\n",
       "      <td>0.016278</td>\n",
       "    </tr>\n",
       "    <tr>\n",
       "      <th>75</th>\n",
       "      <td>claims_per_patient_lag_1</td>\n",
       "      <td>0.014290</td>\n",
       "    </tr>\n",
       "  </tbody>\n",
       "</table>\n",
       "</div>"
      ],
      "text/plain": [
       "                                       Feature  Importance\n",
       "2               standard_services_claims_lag_3    0.227910\n",
       "8                           total_claims_lag_1    0.196665\n",
       "55          total_psychotherapy_patients_lag_1    0.133236\n",
       "9                           total_claims_lag_2    0.069541\n",
       "36             total_other_payers_claims_lag_1    0.063654\n",
       "52                        total_patients_lag_1    0.056757\n",
       "20            total_psychotherapy_claims_lag_1    0.047737\n",
       "54  tele_services_psychotherapy_patients_lag_1    0.029128\n",
       "3               standard_services_claims_lag_4    0.016278\n",
       "75                    claims_per_patient_lag_1    0.014290"
      ]
     },
     "execution_count": 206,
     "metadata": {},
     "output_type": "execute_result"
    }
   ],
   "source": [
    "results_new[1]['sorted_importances_df'].head(10)"
   ]
  },
  {
   "cell_type": "markdown",
   "metadata": {},
   "source": [
    "For cluster 2, total and standard claims and patients drive the most important features."
   ]
  },
  {
   "cell_type": "code",
   "execution_count": 207,
   "metadata": {},
   "outputs": [
    {
     "data": {
      "text/html": [
       "<div>\n",
       "<style scoped>\n",
       "    .dataframe tbody tr th:only-of-type {\n",
       "        vertical-align: middle;\n",
       "    }\n",
       "\n",
       "    .dataframe tbody tr th {\n",
       "        vertical-align: top;\n",
       "    }\n",
       "\n",
       "    .dataframe thead th {\n",
       "        text-align: right;\n",
       "    }\n",
       "</style>\n",
       "<table border=\"1\" class=\"dataframe\">\n",
       "  <thead>\n",
       "    <tr style=\"text-align: right;\">\n",
       "      <th></th>\n",
       "      <th>Feature</th>\n",
       "      <th>Importance</th>\n",
       "    </tr>\n",
       "  </thead>\n",
       "  <tbody>\n",
       "    <tr>\n",
       "      <th>8</th>\n",
       "      <td>total_claims_lag_1</td>\n",
       "      <td>0.229830</td>\n",
       "    </tr>\n",
       "    <tr>\n",
       "      <th>0</th>\n",
       "      <td>standard_services_claims_lag_1</td>\n",
       "      <td>0.143995</td>\n",
       "    </tr>\n",
       "    <tr>\n",
       "      <th>9</th>\n",
       "      <td>total_claims_lag_2</td>\n",
       "      <td>0.095827</td>\n",
       "    </tr>\n",
       "    <tr>\n",
       "      <th>52</th>\n",
       "      <td>total_patients_lag_1</td>\n",
       "      <td>0.050145</td>\n",
       "    </tr>\n",
       "    <tr>\n",
       "      <th>3</th>\n",
       "      <td>standard_services_claims_lag_4</td>\n",
       "      <td>0.048613</td>\n",
       "    </tr>\n",
       "    <tr>\n",
       "      <th>50</th>\n",
       "      <td>standard_services_patients_lag_1</td>\n",
       "      <td>0.035919</td>\n",
       "    </tr>\n",
       "    <tr>\n",
       "      <th>11</th>\n",
       "      <td>total_claims_lag_4</td>\n",
       "      <td>0.027666</td>\n",
       "    </tr>\n",
       "    <tr>\n",
       "      <th>80</th>\n",
       "      <td>standard_claims_per_patient_by_county_lag_1</td>\n",
       "      <td>0.026287</td>\n",
       "    </tr>\n",
       "    <tr>\n",
       "      <th>81</th>\n",
       "      <td>claims_per_patient_by_grouping_lag_1</td>\n",
       "      <td>0.023883</td>\n",
       "    </tr>\n",
       "    <tr>\n",
       "      <th>13</th>\n",
       "      <td>standard_services_psychotherapy_claims_lag_2</td>\n",
       "      <td>0.023498</td>\n",
       "    </tr>\n",
       "  </tbody>\n",
       "</table>\n",
       "</div>"
      ],
      "text/plain": [
       "                                         Feature  Importance\n",
       "8                             total_claims_lag_1    0.229830\n",
       "0                 standard_services_claims_lag_1    0.143995\n",
       "9                             total_claims_lag_2    0.095827\n",
       "52                          total_patients_lag_1    0.050145\n",
       "3                 standard_services_claims_lag_4    0.048613\n",
       "50              standard_services_patients_lag_1    0.035919\n",
       "11                            total_claims_lag_4    0.027666\n",
       "80   standard_claims_per_patient_by_county_lag_1    0.026287\n",
       "81          claims_per_patient_by_grouping_lag_1    0.023883\n",
       "13  standard_services_psychotherapy_claims_lag_2    0.023498"
      ]
     },
     "execution_count": 207,
     "metadata": {},
     "output_type": "execute_result"
    }
   ],
   "source": [
    "results_new[2]['sorted_importances_df'].head(10)"
   ]
  },
  {
   "cell_type": "markdown",
   "metadata": {},
   "source": [
    "Overall, we see that the drives within each cluster vary. More interestingly to us, the drivers vary when the treatment of time series change. Therefore, it would make sense to combine both of the predictions to reach a final one. To put it in simple terms, the predictions of both approaches show low correlation, so there is a potentially high gain of combining them. The final combined predictions are more likely to generalize well.\n",
    "\n",
    "# FINAL PREDICTIONS PER HEALTHCARE PROVIDER\n",
    "\n",
    "Before creating the final set of predictions, we need to make adjustments to the dataset used. We will generate predictions only for the providers that have data in 2020 because we are required to create predictions for the first quarter of 2021."
   ]
  },
  {
   "cell_type": "code",
   "execution_count": 208,
   "metadata": {},
   "outputs": [
    {
     "name": "stdout",
     "output_type": "stream",
     "text": [
      "Original DataFrame shape: (85436, 63)\n",
      "Filtered DataFrame shape: (72844, 63)\n"
     ]
    }
   ],
   "source": [
    "npi_with_2020_data = df[df['service_year'] == 2020]['npi'].unique()\n",
    "filtered_df = df[df['npi'].isin(npi_with_2020_data)]\n",
    "\n",
    "print(f\"Original DataFrame shape: {df.shape}\")\n",
    "print(f\"Filtered DataFrame shape: {filtered_df.shape}\")"
   ]
  },
  {
   "cell_type": "markdown",
   "metadata": {},
   "source": [
    "We add an extra row per each provider, this row is a \"dummy\" row representing the first quarter of 2021. We do that to align the dataframe with the logic of the booster to create lagged features. We want the data of the last quarter of 2020 to be the first lag."
   ]
  },
  {
   "cell_type": "code",
   "execution_count": 209,
   "metadata": {},
   "outputs": [
    {
     "name": "stdout",
     "output_type": "stream",
     "text": [
      "Original filtered DataFrame shape: (72844, 63)\n",
      "Extended DataFrame shape: (81764, 63)\n"
     ]
    }
   ],
   "source": [
    "# Get unique npis\n",
    "unique_npi = filtered_df['npi'].unique()\n",
    "\n",
    "# Create new rows DataFrame with unique npis\n",
    "new_rows = pd.DataFrame(unique_npi, columns=['npi'])\n",
    "\n",
    "# Set service_year and service_quarter columns\n",
    "new_rows['service_year'] = 2021\n",
    "new_rows['service_quarter'] = 1\n",
    "\n",
    "# Map clusters from the original DataFrame to the new DataFrame\n",
    "npi_cluster_map = filtered_df.set_index('npi')['cluster'].to_dict()\n",
    "new_rows['cluster'] = new_rows['npi'].map(npi_cluster_map)\n",
    "\n",
    "# Add other columns with 0 values (excluding 'cluster')\n",
    "other_columns = filtered_df.columns.difference(['npi', 'service_year', 'service_quarter', 'cluster'])\n",
    "for col in other_columns:\n",
    "    new_rows[col] = 0\n",
    "\n",
    "# Concatenate the new rows with the original filtered_df\n",
    "extended_df = pd.concat([filtered_df, new_rows], ignore_index=True)\n",
    "\n",
    "# Sort the DataFrame by npi, service_year, and service_quarter\n",
    "extended_df = extended_df.sort_values(by=['npi', 'service_year', 'service_quarter'])\n",
    "\n",
    "# Print the shape of the extended DataFrame to verify the result\n",
    "print(f\"Original filtered DataFrame shape: {filtered_df.shape}\")\n",
    "print(f\"Extended DataFrame shape: {extended_df.shape}\")"
   ]
  },
  {
   "cell_type": "markdown",
   "metadata": {},
   "source": [
    "Now, since we only want one prediction per provider, we drop all the data before 2020."
   ]
  },
  {
   "cell_type": "code",
   "execution_count": 210,
   "metadata": {},
   "outputs": [
    {
     "name": "stdout",
     "output_type": "stream",
     "text": [
      "Extended DataFrame shape: (44600, 63)\n"
     ]
    }
   ],
   "source": [
    "extended_df = extended_df[extended_df['service_year'].isin([2020, 2021])]\n",
    "print(f\"Extended DataFrame shape: {extended_df.shape}\")"
   ]
  },
  {
   "cell_type": "markdown",
   "metadata": {},
   "source": [
    "Then, we split the dataset into 3 smaller ones to get one subset per cluster."
   ]
  },
  {
   "cell_type": "code",
   "execution_count": 211,
   "metadata": {},
   "outputs": [
    {
     "name": "stdout",
     "output_type": "stream",
     "text": [
      "Number of rows in cluster 0 DataFrame: 16695\n",
      "Number of rows in cluster 1 DataFrame: 20060\n",
      "Number of rows in cluster 2 DataFrame: 7845\n"
     ]
    }
   ],
   "source": [
    "# Create three separate DataFrames for each cluster value\n",
    "df_cluster_0 = extended_df[extended_df['cluster'] == 0].reset_index(drop=True)\n",
    "df_cluster_1 = extended_df[extended_df['cluster'] == 1].reset_index(drop=True)\n",
    "df_cluster_2 = extended_df[extended_df['cluster'] == 2].reset_index(drop=True)\n",
    "\n",
    "# Print the number of rows in each DataFrame to verify\n",
    "print(f\"Number of rows in cluster 0 DataFrame: {len(df_cluster_0)}\")\n",
    "print(f\"Number of rows in cluster 1 DataFrame: {len(df_cluster_1)}\")\n",
    "print(f\"Number of rows in cluster 2 DataFrame: {len(df_cluster_2)}\")"
   ]
  },
  {
   "cell_type": "markdown",
   "metadata": {},
   "source": [
    "Now that the datasets have been created, we need to create predictions for each of them. Since we are using a stacked ensemble, we first need to add the required predictions of the base models before passing them to the next one.\n",
    "\n",
    "Therefore, we first create the time growth prediction for each dataset."
   ]
  },
  {
   "cell_type": "code",
   "execution_count": 212,
   "metadata": {},
   "outputs": [],
   "source": [
    "tg_pred = tg_model.predict_for_period(2021, 1)"
   ]
  },
  {
   "cell_type": "markdown",
   "metadata": {},
   "source": [
    "Now, we merge the predictions with each of the datasets."
   ]
  },
  {
   "cell_type": "code",
   "execution_count": 213,
   "metadata": {},
   "outputs": [],
   "source": [
    "# Merge the 'y_pred_tg' column into each cluster DataFrame\n",
    "df_cluster_0 = df_cluster_0.merge(tg_pred[['npi', 'y_pred_tg']], on='npi', how='left')\n",
    "df_cluster_1 = df_cluster_1.merge(tg_pred[['npi', 'y_pred_tg']], on='npi', how='left')\n",
    "df_cluster_2 = df_cluster_2.merge(tg_pred[['npi', 'y_pred_tg']], on='npi', how='left')"
   ]
  },
  {
   "cell_type": "markdown",
   "metadata": {},
   "source": [
    "We have to create elastic net models per cluster as well because we need their predictions as well."
   ]
  },
  {
   "cell_type": "code",
   "execution_count": 214,
   "metadata": {},
   "outputs": [
    {
     "name": "stdout",
     "output_type": "stream",
     "text": [
      "Running model for cluster 0\n",
      "Running model for cluster 1\n",
      "Running model for cluster 2\n",
      "Done!\n"
     ]
    }
   ],
   "source": [
    "# Initialize dictionaries to store rmodels for each cluster\n",
    "models_en_reg = {}\n",
    "\n",
    "# Loop through each cluster\n",
    "for cluster in range(0, 3):\n",
    "    print(f\"Running model for cluster {cluster}\")\n",
    "    # Filter the DataFrame for the current cluster\n",
    "    cluster_df = df[df['cluster'] == cluster]\n",
    "\n",
    "    # Create and run the BoosterNew model for the current cluster\n",
    "    model_name = f\"en_reg_cluster_{cluster}\"\n",
    "    models_en_reg[model_name] = ElasticNetReg(cluster_df)\n",
    "    models_en_reg[model_name].prepare_data()\n",
    "    models_en_reg[model_name].fit_model()\n",
    "\n",
    "print('Done!')"
   ]
  },
  {
   "cell_type": "code",
   "execution_count": 215,
   "metadata": {},
   "outputs": [
    {
     "name": "stdout",
     "output_type": "stream",
     "text": [
      "Running model for cluster 0\n",
      "Running model for cluster 1\n",
      "Running model for cluster 2\n",
      "Done!\n"
     ]
    }
   ],
   "source": [
    "# Initialize dictionaries to store rmodels for each cluster\n",
    "models_en_new = {}\n",
    "\n",
    "# Loop through each cluster\n",
    "for cluster in range(0, 3):\n",
    "    print(f\"Running model for cluster {cluster}\")\n",
    "    # Filter the DataFrame for the current cluster\n",
    "    cluster_df = df[df['cluster'] == cluster]\n",
    "\n",
    "    # Create and run the BoosterNew model for the current cluster\n",
    "    model_name = f\"en_new_cluster_{cluster}\"\n",
    "    models_en_new[model_name] = ElasticNetNew(cluster_df)\n",
    "    models_en_new[model_name].prepare_data()\n",
    "    models_en_new[model_name].fit_model()\n",
    "\n",
    "print('Done!')"
   ]
  },
  {
   "cell_type": "markdown",
   "metadata": {},
   "source": [
    "We define a function to ensure the data has the same expected columns."
   ]
  },
  {
   "cell_type": "code",
   "execution_count": 216,
   "metadata": {},
   "outputs": [],
   "source": [
    "def process_new_data(new_data, column_to_ignore):\n",
    "    # Function to create lagged features for a single column\n",
    "    def create_lagged_features(df, column, lags):\n",
    "        for lag in lags:\n",
    "            lagged_col_name = f'{column}_lag_{lag}'\n",
    "            df[lagged_col_name] = df.groupby('npi')[column].shift(lag)\n",
    "        return df\n",
    "    \n",
    "    # Keep the original dataframe unchanged\n",
    "    new_data = new_data.copy()\n",
    "\n",
    "    # Create lagged features for the new data\n",
    "    claims_columns = [col for col in new_data.columns if col.endswith(\"claims\")]\n",
    "    other_columns = [col for col in new_data.columns if col not in claims_columns and col != column_to_ignore]\n",
    "\n",
    "    for col in claims_columns:\n",
    "        new_data = create_lagged_features(new_data, col, lags=[1, 2, 3, 4])\n",
    "\n",
    "    for col in other_columns:\n",
    "        new_data = create_lagged_features(new_data, col, lags=[1])\n",
    "\n",
    "    new_data = new_data.dropna()\n",
    "\n",
    "    return new_data\n"
   ]
  },
  {
   "cell_type": "code",
   "execution_count": 217,
   "metadata": {},
   "outputs": [],
   "source": [
    "def reorder_and_filter_columns(df, column_order):\n",
    "    common_columns = [col for col in column_order if col in df.columns]\n",
    "    return df[common_columns].copy()"
   ]
  },
  {
   "cell_type": "code",
   "execution_count": 218,
   "metadata": {},
   "outputs": [],
   "source": [
    "en_reg_0 = models_en_reg['en_reg_cluster_0']\n",
    "en_reg_1 = models_en_reg['en_reg_cluster_1']\n",
    "en_reg_2 = models_en_reg['en_reg_cluster_2']\n",
    "\n",
    "df_cluster_0_en = process_new_data(df_cluster_0, 'y_pred_tg')\n",
    "df_cluster_1_en = process_new_data(df_cluster_1, 'y_pred_tg')\n",
    "df_cluster_2_en = process_new_data(df_cluster_2, 'y_pred_tg')\n",
    "\n",
    "en_feats_order = en_reg_0.get_expected_feature_order()\n",
    "\n",
    "# Reorder and filter columns for each DataFrame\n",
    "df_cluster_0_en = reorder_and_filter_columns(df_cluster_0_en, en_feats_order)\n",
    "df_cluster_1_en = reorder_and_filter_columns(df_cluster_1_en, en_feats_order)\n",
    "df_cluster_2_en = reorder_and_filter_columns(df_cluster_2_en, en_feats_order)"
   ]
  },
  {
   "cell_type": "markdown",
   "metadata": {},
   "source": [
    "We get the elastic net predictions for each cluster and model."
   ]
  },
  {
   "cell_type": "code",
   "execution_count": 219,
   "metadata": {},
   "outputs": [],
   "source": [
    "pred_en_reg_0 = en_reg_0.predict_on_new_data(df_cluster_0_en)\n",
    "pred_en_reg_1 = en_reg_1.predict_on_new_data(df_cluster_1_en)\n",
    "pred_en_reg_2 = en_reg_2.predict_on_new_data(df_cluster_2_en)"
   ]
  },
  {
   "cell_type": "code",
   "execution_count": 220,
   "metadata": {},
   "outputs": [],
   "source": [
    "en_new_0 = models_en_new['en_new_cluster_0']\n",
    "en_new_1 = models_en_new['en_new_cluster_1']\n",
    "en_new_2 = models_en_new['en_new_cluster_2']\n",
    "\n",
    "pred_en_new_0 = en_new_0.predict_on_new_data(df_cluster_0_en)\n",
    "pred_en_new_1 = en_new_1.predict_on_new_data(df_cluster_1_en)\n",
    "pred_en_new_2 = en_new_2.predict_on_new_data(df_cluster_2_en)"
   ]
  },
  {
   "cell_type": "code",
   "execution_count": 221,
   "metadata": {},
   "outputs": [],
   "source": [
    "def repeat_values(pred_array, repeat_times=5):\n",
    "    return np.repeat(pred_array, repeat_times)\n",
    "\n",
    "pred_en_reg_0 = repeat_values(pred_en_reg_0, 5)\n",
    "pred_en_reg_1 = repeat_values(pred_en_reg_1, 5)\n",
    "pred_en_reg_2 = repeat_values(pred_en_reg_2, 5)"
   ]
  },
  {
   "cell_type": "markdown",
   "metadata": {},
   "source": [
    "We need to drop the time growth prediction and add the elastic net predictions."
   ]
  },
  {
   "cell_type": "code",
   "execution_count": 222,
   "metadata": {},
   "outputs": [],
   "source": [
    "df_cluster_0_reg = df_cluster_0.drop(columns=['y_pred_tg'], errors='ignore')\n",
    "df_cluster_0_reg['y_pred_en_reg'] = pred_en_reg_0\n",
    "\n",
    "df_cluster_1_reg = df_cluster_1.drop(columns=['y_pred_tg'], errors='ignore')\n",
    "df_cluster_1_reg['y_pred_en_reg'] = pred_en_reg_1\n",
    "\n",
    "df_cluster_2_reg = df_cluster_2.drop(columns=['y_pred_tg'], errors='ignore')\n",
    "df_cluster_2_reg['y_pred_en_reg'] = pred_en_reg_2"
   ]
  },
  {
   "cell_type": "code",
   "execution_count": 223,
   "metadata": {},
   "outputs": [],
   "source": [
    "pred_en_new_0 = repeat_values(pred_en_new_0, 5)\n",
    "pred_en_new_1 = repeat_values(pred_en_new_1, 5)\n",
    "pred_en_new_2 = repeat_values(pred_en_new_2, 5)"
   ]
  },
  {
   "cell_type": "code",
   "execution_count": 224,
   "metadata": {},
   "outputs": [],
   "source": [
    "df_cluster_0_new = df_cluster_0.drop(columns=['y_pred_tg'], errors='ignore')\n",
    "df_cluster_0_new['y_pred_en_new'] = pred_en_new_0\n",
    "\n",
    "df_cluster_1_new = df_cluster_1.drop(columns=['y_pred_tg'], errors='ignore')\n",
    "df_cluster_1_new['y_pred_en_new'] = pred_en_new_1\n",
    "\n",
    "df_cluster_2_new = df_cluster_2.drop(columns=['y_pred_tg'], errors='ignore')\n",
    "df_cluster_2_new['y_pred_en_new'] = pred_en_new_2"
   ]
  },
  {
   "cell_type": "code",
   "execution_count": 225,
   "metadata": {},
   "outputs": [],
   "source": [
    "boost_reg_0 = models_reg['booster_reg_model_cluster_0']\n",
    "boost_reg_1 = models_reg['booster_reg_model_cluster_1']\n",
    "boost_reg_2 = models_reg['booster_reg_model_cluster_2']\n",
    "\n",
    "df_cluster_0_reg = process_new_data(df_cluster_0_reg, 'y_pred_en_reg')\n",
    "df_cluster_1_reg = process_new_data(df_cluster_1_reg, 'y_pred_en_reg')\n",
    "df_cluster_2_reg = process_new_data(df_cluster_2_reg, 'y_pred_en_reg')\n",
    "\n",
    "boost_reg_order = boost_reg_0.get_expected_feature_order()\n",
    "\n",
    "df_cluster_0_reg = df_cluster_0_reg[boost_reg_order]\n",
    "df_cluster_1_reg = df_cluster_1_reg[boost_reg_order]\n",
    "df_cluster_2_reg = df_cluster_2_reg[boost_reg_order]"
   ]
  },
  {
   "cell_type": "code",
   "execution_count": 226,
   "metadata": {},
   "outputs": [],
   "source": [
    "boost_new_0 = models_new['booster_new_model_cluster_0']\n",
    "boost_new_1 = models_new['booster_new_model_cluster_1']\n",
    "boost_new_2 = models_new['booster_new_model_cluster_2']\n",
    "\n",
    "df_cluster_0_new = process_new_data(df_cluster_0_new, 'y_pred_en_new')\n",
    "df_cluster_1_new = process_new_data(df_cluster_1_new, 'y_pred_en_new')\n",
    "df_cluster_2_new = process_new_data(df_cluster_2_new, 'y_pred_en_new')\n",
    "\n",
    "boost_new_order = boost_new_0.get_expected_feature_order()\n",
    "\n",
    "df_cluster_0_new = df_cluster_0_new[boost_new_order]\n",
    "df_cluster_1_new = df_cluster_1_new[boost_new_order]\n",
    "df_cluster_2_new = df_cluster_2_new[boost_new_order]"
   ]
  },
  {
   "cell_type": "markdown",
   "metadata": {},
   "source": [
    "We are ready to run the final models!"
   ]
  },
  {
   "cell_type": "code",
   "execution_count": 227,
   "metadata": {},
   "outputs": [],
   "source": [
    "pred_boost_reg_0 = boost_reg_0.predict_on_new_data(df_cluster_0_reg)\n",
    "pred_boost_reg_1 = boost_reg_1.predict_on_new_data(df_cluster_1_reg)\n",
    "pred_boost_reg_2 = boost_reg_2.predict_on_new_data(df_cluster_2_reg)"
   ]
  },
  {
   "cell_type": "code",
   "execution_count": 228,
   "metadata": {},
   "outputs": [],
   "source": [
    "pred_boost_new_0 = boost_new_0.predict_on_new_data(df_cluster_0_new)\n",
    "pred_boost_new_1 = boost_new_1.predict_on_new_data(df_cluster_1_new)\n",
    "pred_boost_new_2 = boost_new_2.predict_on_new_data(df_cluster_2_new)"
   ]
  },
  {
   "cell_type": "markdown",
   "metadata": {},
   "source": [
    "For the final prediction, we combine both approaches."
   ]
  },
  {
   "cell_type": "code",
   "execution_count": 231,
   "metadata": {},
   "outputs": [],
   "source": [
    "weight_reg = 0.75\n",
    "weight_new = 0.25\n",
    "\n",
    "final_pred_0 = weight_reg * pred_boost_reg_0 + weight_new * pred_boost_new_0\n",
    "final_pred_1 = weight_reg * pred_boost_reg_1 + weight_new * pred_boost_new_1\n",
    "final_pred_2 = weight_reg * pred_boost_reg_2 + weight_new * pred_boost_new_2"
   ]
  },
  {
   "cell_type": "code",
   "execution_count": 239,
   "metadata": {},
   "outputs": [],
   "source": [
    "final_pred_0 = np.round(final_pred_0, 0)\n",
    "final_pred_1 = np.round(final_pred_1, 0)\n",
    "final_pred_2 = np.round(final_pred_2, 0)"
   ]
  },
  {
   "cell_type": "code",
   "execution_count": 258,
   "metadata": {},
   "outputs": [],
   "source": [
    "def replace_last_observation_with_predictions(df, predictions, id_column='npi', target_column='total_claims'):\n",
    "    # Make a copy of the original DataFrame to avoid modifying it\n",
    "    df = df.copy()\n",
    "    \n",
    "    # Ensure the predictions array length matches the number of unique identifiers\n",
    "    unique_ids = df[id_column].unique()\n",
    "    if len(predictions) != len(unique_ids):\n",
    "        raise ValueError(\"Length of predictions array must match the number of unique identifiers.\")\n",
    "    \n",
    "    # Create a dictionary to map each unique identifier to its corresponding prediction\n",
    "    id_to_prediction = dict(zip(unique_ids, predictions))\n",
    "    \n",
    "    # Replace the last observation of target_column for each id_column with the corresponding prediction\n",
    "    last_indices = df.groupby(id_column).tail(1).index\n",
    "    for idx, npi in zip(last_indices, unique_ids):\n",
    "        df.at[idx, target_column] = id_to_prediction[npi]\n",
    "    \n",
    "    return df"
   ]
  },
  {
   "cell_type": "code",
   "execution_count": 259,
   "metadata": {},
   "outputs": [],
   "source": [
    "# Apply the function to each DataFrame\n",
    "df_cluster_0_final = replace_last_observation_with_predictions(df_cluster_0, final_pred_0, id_column='npi', target_column='total_claims')\n",
    "df_cluster_1_final = replace_last_observation_with_predictions(df_cluster_1, final_pred_1, id_column='npi', target_column='total_claims')\n",
    "df_cluster_2_final = replace_last_observation_with_predictions(df_cluster_2, final_pred_2, id_column='npi', target_column='total_claims')"
   ]
  },
  {
   "cell_type": "code",
   "execution_count": 261,
   "metadata": {},
   "outputs": [],
   "source": [
    "def impute_date_column(df, date_column='date', impute_value='2021-03-31'):\n",
    "    df[date_column] = df[date_column].replace(0, impute_value)\n",
    "    return df"
   ]
  },
  {
   "cell_type": "code",
   "execution_count": 262,
   "metadata": {},
   "outputs": [],
   "source": [
    "df_cluster_0_final = impute_date_column(df_cluster_0_final)\n",
    "df_cluster_1_final = impute_date_column(df_cluster_1_final)\n",
    "df_cluster_2_final = impute_date_column(df_cluster_2_final)"
   ]
  },
  {
   "cell_type": "code",
   "execution_count": 264,
   "metadata": {},
   "outputs": [],
   "source": [
    "import matplotlib.pyplot as plt\n",
    "import seaborn as sns\n",
    "\n",
    "plt.rcParams['image.cmap'] = 'plasma'\n",
    "sns.set_palette(\"plasma\")"
   ]
  },
  {
   "cell_type": "code",
   "execution_count": 267,
   "metadata": {},
   "outputs": [],
   "source": [
    "def process_and_plot(df, title):\n",
    "    # Convert 'date' column to datetime if not already\n",
    "    df['date'] = pd.to_datetime(df['date'])\n",
    "\n",
    "    # Sum total_claims per date\n",
    "    df_sum = df.groupby('date')['total_claims'].sum().reset_index()\n",
    "\n",
    "    # Define x-ticks\n",
    "    x_ticks = pd.to_datetime(['2020-03-31', '2020-06-30', '2020-09-30', '2020-12-31', '2021-03-31'])\n",
    "\n",
    "    # Plot the evolution of the sum\n",
    "    plt.figure(figsize=(10, 6))\n",
    "    plt.plot(df_sum['date'], df_sum['total_claims'], marker='o')\n",
    "    plt.title(title)\n",
    "    plt.xlabel('Date')\n",
    "    plt.ylabel('Total Claims')\n",
    "    plt.grid(True)\n",
    "    plt.xticks(x_ticks, x_ticks.strftime('%Y-%m-%d'))\n",
    "    plt.show()"
   ]
  },
  {
   "cell_type": "code",
   "execution_count": 268,
   "metadata": {},
   "outputs": [
    {
     "data": {
      "image/png": "[encoded data removed]",
      "text/plain": [
       "<Figure size 1000x600 with 1 Axes>"
      ]
     },
     "metadata": {},
     "output_type": "display_data"
    },
    {
     "data": {
      "image/png": "[encoded data removed]",
      "text/plain": [
       "<Figure size 1000x600 with 1 Axes>"
      ]
     },
     "metadata": {},
     "output_type": "display_data"
    },
    {
     "data": {
      "image/png": "[encoded data removed]",
      "text/plain": [
       "<Figure size 1000x600 with 1 Axes>"
      ]
     },
     "metadata": {},
     "output_type": "display_data"
    }
   ],
   "source": [
    "process_and_plot(df_cluster_0_final, 'Evolution of Total Claims for Cluster 0')\n",
    "process_and_plot(df_cluster_1_final, 'Evolution of Total Claims for Cluster 1')\n",
    "process_and_plot(df_cluster_2_final, 'Evolution of Total Claims for Cluster 2')"
   ]
  },
  {
   "cell_type": "code",
   "execution_count": 279,
   "metadata": {},
   "outputs": [],
   "source": [
    "def calculate_growth_rates(df):\n",
    "    # Convert 'date' column to datetime if not already\n",
    "    df['date'] = pd.to_datetime(df['date'], errors='coerce')\n",
    "\n",
    "    # Sum total_claims per date\n",
    "    df_sum = df.groupby('date')['total_claims'].sum()\n",
    "\n",
    "    # Extract total_claims for the specific dates\n",
    "    total_claims_start_year = df_sum.get(pd.Timestamp('2020-03-31'), 0)\n",
    "    total_claims_end_year = df_sum.get(pd.Timestamp('2021-03-31'), 0)\n",
    "    total_claims_start_quarter = df_sum.get(pd.Timestamp('2020-12-31'), 0)\n",
    "    total_claims_end_quarter = df_sum.get(pd.Timestamp('2021-03-31'), 0)\n",
    "\n",
    "    # Calculate growth rates\n",
    "    yearly_growth = (total_claims_end_year - total_claims_start_year) / total_claims_start_year if total_claims_start_year != 0 else float('inf')\n",
    "    quarterly_growth = (total_claims_end_quarter - total_claims_start_quarter) / total_claims_start_quarter if total_claims_start_quarter != 0 else float('inf')\n",
    "\n",
    "    return yearly_growth, quarterly_growth, total_claims_end_quarter"
   ]
  },
  {
   "cell_type": "code",
   "execution_count": 280,
   "metadata": {},
   "outputs": [
    {
     "name": "stdout",
     "output_type": "stream",
     "text": [
      "Cluster 0 - Yearly Growth: -4.52%, Quarterly Growth: -17.72%\n",
      "Cluster 1 - Yearly Growth: 20.57%, Quarterly Growth: -9.29%\n",
      "Cluster 2 - Yearly Growth: -52.88%, Quarterly Growth: 11.56%\n"
     ]
    }
   ],
   "source": [
    "# Calculate growth rates for each DataFrame\n",
    "yearly_growth_0, quarterly_growth_0, cluster_0_pred = calculate_growth_rates(df_cluster_0_final)\n",
    "yearly_growth_1, quarterly_growth_1, cluster_1_pred = calculate_growth_rates(df_cluster_1_final)\n",
    "yearly_growth_2, quarterly_growth_2, cluster_2_pred = calculate_growth_rates(df_cluster_2_final)\n",
    "\n",
    "print(\"Cluster 0 - Yearly Growth: {:.2%}, Quarterly Growth: {:.2%}\".format(yearly_growth_0, quarterly_growth_0))\n",
    "print(\"Cluster 1 - Yearly Growth: {:.2%}, Quarterly Growth: {:.2%}\".format(yearly_growth_1, quarterly_growth_1))\n",
    "print(\"Cluster 2 - Yearly Growth: {:.2%}, Quarterly Growth: {:.2%}\".format(yearly_growth_2, quarterly_growth_2))"
   ]
  },
  {
   "cell_type": "code",
   "execution_count": 281,
   "metadata": {},
   "outputs": [
    {
     "name": "stdout",
     "output_type": "stream",
     "text": [
      "Cluster 0 2021Q1 predicted claims: 155625\n",
      "Cluster 1 2021Q1 predicted claims: 401226\n",
      "Cluster 2 2021Q1 predicted claims: 11425\n"
     ]
    }
   ],
   "source": [
    "print(f'Cluster 0 2021Q1 predicted claims: {cluster_0_pred}')\n",
    "print(f'Cluster 1 2021Q1 predicted claims: {cluster_1_pred}')\n",
    "print(f'Cluster 2 2021Q1 predicted claims: {cluster_2_pred}')"
   ]
  },
  {
   "cell_type": "code",
   "execution_count": 282,
   "metadata": {},
   "outputs": [
    {
     "data": {
      "image/png": "[encoded data removed]",
      "text/plain": [
       "<Figure size 1400x800 with 1 Axes>"
      ]
     },
     "metadata": {},
     "output_type": "display_data"
    }
   ],
   "source": [
    "def process_and_plot(dfs, titles, main_title):\n",
    "    plt.figure(figsize=(14, 8))\n",
    "    \n",
    "    # Define x-ticks\n",
    "    x_ticks = pd.to_datetime(['2020-03-31', '2020-06-30', '2020-09-30', '2020-12-31', '2021-03-31'])\n",
    "    \n",
    "    for df, title in zip(dfs, titles):\n",
    "        # Convert 'date' column to datetime if not already\n",
    "        df['date'] = pd.to_datetime(df['date'])\n",
    "        \n",
    "        # Sum total_claims per date\n",
    "        df_sum = df.groupby('date')['total_claims'].sum().reset_index()\n",
    "        \n",
    "        # Plot the evolution of the sum\n",
    "        plt.plot(df_sum['date'], df_sum['total_claims'], marker='o', label=title)\n",
    "    \n",
    "    plt.title(main_title)\n",
    "    plt.xlabel('Date')\n",
    "    plt.ylabel('Total Claims')\n",
    "    plt.grid(True)\n",
    "    plt.xticks(x_ticks, x_ticks.strftime('%Y-%m-%d'))\n",
    "    plt.legend()\n",
    "    plt.show()\n",
    "\n",
    "# List of DataFrames and their corresponding titles\n",
    "dfs = [df_cluster_0_final, df_cluster_1_final, df_cluster_2_final]\n",
    "titles = ['Cluster 0', 'Cluster 1', 'Cluster 2']\n",
    "main_title = 'Evolution of Total Claims for Clusters 0, 1, and 2'\n",
    "\n",
    "process_and_plot(dfs, titles, main_title)"
   ]
  },
  {
   "cell_type": "code",
   "execution_count": 285,
   "metadata": {},
   "outputs": [
    {
     "data": {
      "text/html": [
       "<div>\n",
       "<style scoped>\n",
       "    .dataframe tbody tr th:only-of-type {\n",
       "        vertical-align: middle;\n",
       "    }\n",
       "\n",
       "    .dataframe tbody tr th {\n",
       "        vertical-align: top;\n",
       "    }\n",
       "\n",
       "    .dataframe thead th {\n",
       "        text-align: right;\n",
       "    }\n",
       "</style>\n",
       "<table border=\"1\" class=\"dataframe\">\n",
       "  <thead>\n",
       "    <tr style=\"text-align: right;\">\n",
       "      <th></th>\n",
       "      <th>Cluster</th>\n",
       "      <th>2020-03-31</th>\n",
       "      <th>2020-06-30</th>\n",
       "      <th>2020-09-30</th>\n",
       "      <th>2020-12-31</th>\n",
       "      <th>2021-03-31</th>\n",
       "    </tr>\n",
       "  </thead>\n",
       "  <tbody>\n",
       "    <tr>\n",
       "      <th>0</th>\n",
       "      <td>Cluster 0</td>\n",
       "      <td>163000</td>\n",
       "      <td>165263</td>\n",
       "      <td>187544</td>\n",
       "      <td>189150</td>\n",
       "      <td>155625</td>\n",
       "    </tr>\n",
       "    <tr>\n",
       "      <th>1</th>\n",
       "      <td>Cluster 1</td>\n",
       "      <td>332768</td>\n",
       "      <td>426595</td>\n",
       "      <td>455605</td>\n",
       "      <td>442326</td>\n",
       "      <td>401226</td>\n",
       "    </tr>\n",
       "    <tr>\n",
       "      <th>2</th>\n",
       "      <td>Cluster 2</td>\n",
       "      <td>24247</td>\n",
       "      <td>21383</td>\n",
       "      <td>16098</td>\n",
       "      <td>10241</td>\n",
       "      <td>11425</td>\n",
       "    </tr>\n",
       "  </tbody>\n",
       "</table>\n",
       "</div>"
      ],
      "text/plain": [
       "     Cluster  2020-03-31  2020-06-30  2020-09-30  2020-12-31  2021-03-31\n",
       "0  Cluster 0      163000      165263      187544      189150      155625\n",
       "1  Cluster 1      332768      426595      455605      442326      401226\n",
       "2  Cluster 2       24247       21383       16098       10241       11425"
      ]
     },
     "execution_count": 285,
     "metadata": {},
     "output_type": "execute_result"
    }
   ],
   "source": [
    "def process_dataframe(df):\n",
    "    # Convert 'date' column to datetime if not already\n",
    "    df['date'] = pd.to_datetime(df['date'])\n",
    "\n",
    "    # Sum total_claims per date\n",
    "    df_sum = df.groupby('date')['total_claims'].sum()\n",
    "    return df_sum\n",
    "\n",
    "# Process each DataFrame\n",
    "df_sum_0 = process_dataframe(df_cluster_0_final)\n",
    "df_sum_1 = process_dataframe(df_cluster_1_final)\n",
    "df_sum_2 = process_dataframe(df_cluster_2_final)\n",
    "\n",
    "# Combine the results into a single DataFrame\n",
    "result_df = pd.DataFrame({\n",
    "    'Cluster 0': df_sum_0,\n",
    "    'Cluster 1': df_sum_1,\n",
    "    'Cluster 2': df_sum_2\n",
    "})\n",
    "\n",
    "# Transpose the DataFrame to have clusters as rows and dates as columns\n",
    "result_df = result_df.T\n",
    "\n",
    "# Fill NaN values with 0 (in case some dates are not present in some clusters)\n",
    "result_df = result_df.fillna(0)\n",
    "\n",
    "# Reset index to have a clean table\n",
    "result_df = result_df.reset_index()\n",
    "\n",
    "# Rename the index column to 'Cluster'\n",
    "result_df = result_df.rename(columns={'index': 'Cluster'})\n",
    "\n",
    "# Format the date columns to only show the date\n",
    "result_df.columns = ['Cluster'] + [col.strftime('%Y-%m-%d') if isinstance(col, pd.Timestamp) else col for col in result_df.columns[1:]]\n",
    "\n",
    "# Print the resulting table\n",
    "result_df\n"
   ]
  },
  {
   "cell_type": "code",
   "execution_count": null,
   "metadata": {},
   "outputs": [],
   "source": []
  }
 ],
 "metadata": {
  "kernelspec": {
   "display_name": "base",
   "language": "python",
   "name": "python3"
  },
  "language_info": {
   "codemirror_mode": {
    "name": "ipython",
    "version": 3
   },
   "file_extension": ".py",
   "mimetype": "text/x-python",
   "name": "python",
   "nbconvert_exporter": "python",
   "pygments_lexer": "ipython3",
   "version": "3.11.3"
  },
  "orig_nbformat": 4
 },
 "nbformat": 4,
 "nbformat_minor": 2
}
